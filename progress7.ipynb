{
 "cells": [
  {
   "cell_type": "code",
   "execution_count": 1,
   "metadata": {
    "scrolled": true
   },
   "outputs": [],
   "source": [
    "# Dependencies and Setup\n",
    "%matplotlib inline\n",
    "import matplotlib.pyplot as plt\n",
    "import pandas as pd\n",
    "import numpy as np\n",
    "import requests\n",
    "import time\n",
    "import json\n",
    "import re\n",
    "import xml.etree.ElementTree as ET\n",
    "import xmltodict\n",
    "import collections\n",
    "import itertools\n",
    "from ratelimit import limits, sleep_and_retry\n",
    "# Import API key\n"
   ]
  },
  {
   "cell_type": "code",
   "execution_count": 2,
   "metadata": {},
   "outputs": [],
   "source": [
    "StateSelected = ['GA']"
   ]
  },
  {
   "cell_type": "code",
   "execution_count": 3,
   "metadata": {},
   "outputs": [
    {
     "data": {
      "text/html": [
       "<div>\n",
       "<style scoped>\n",
       "    .dataframe tbody tr th:only-of-type {\n",
       "        vertical-align: middle;\n",
       "    }\n",
       "\n",
       "    .dataframe tbody tr th {\n",
       "        vertical-align: top;\n",
       "    }\n",
       "\n",
       "    .dataframe thead th {\n",
       "        text-align: right;\n",
       "    }\n",
       "</style>\n",
       "<table border=\"1\" class=\"dataframe\">\n",
       "  <thead>\n",
       "    <tr style=\"text-align: right;\">\n",
       "      <th></th>\n",
       "      <th>Zipcode</th>\n",
       "      <th>State</th>\n",
       "    </tr>\n",
       "  </thead>\n",
       "  <tbody>\n",
       "    <tr>\n",
       "      <th>0</th>\n",
       "      <td>705</td>\n",
       "      <td>PR</td>\n",
       "    </tr>\n",
       "    <tr>\n",
       "      <th>1</th>\n",
       "      <td>610</td>\n",
       "      <td>PR</td>\n",
       "    </tr>\n",
       "    <tr>\n",
       "      <th>2</th>\n",
       "      <td>611</td>\n",
       "      <td>PR</td>\n",
       "    </tr>\n",
       "    <tr>\n",
       "      <th>3</th>\n",
       "      <td>612</td>\n",
       "      <td>PR</td>\n",
       "    </tr>\n",
       "    <tr>\n",
       "      <th>4</th>\n",
       "      <td>601</td>\n",
       "      <td>PR</td>\n",
       "    </tr>\n",
       "  </tbody>\n",
       "</table>\n",
       "</div>"
      ],
      "text/plain": [
       "   Zipcode State\n",
       "0      705    PR\n",
       "1      610    PR\n",
       "2      611    PR\n",
       "3      612    PR\n",
       "4      601    PR"
      ]
     },
     "execution_count": 3,
     "metadata": {},
     "output_type": "execute_result"
    }
   ],
   "source": [
    "# C:\\Users\\cuong\\Downloads\\free-zipcode-database-Primary.csv\n",
    "zipcodes=pd.read_csv('C:/Users/cuong/Downloads/free-zipcode-database-Primary.csv')\n",
    "zipcodes.head()"
   ]
  },
  {
   "cell_type": "code",
   "execution_count": 4,
   "metadata": {},
   "outputs": [],
   "source": [
    "gazipcodes= zipcodes[zipcodes.State.isin(StateSelected)]"
   ]
  },
  {
   "cell_type": "code",
   "execution_count": 5,
   "metadata": {},
   "outputs": [
    {
     "data": {
      "text/plain": [
       "10"
      ]
     },
     "execution_count": 5,
     "metadata": {},
     "output_type": "execute_result"
    }
   ],
   "source": [
    "gazipcodes=gazipcodes.head(10)\n",
    "len(gazipcodes)"
   ]
  },
  {
   "cell_type": "markdown",
   "metadata": {},
   "source": [
    "## Perform API Calls"
   ]
  },
  {
   "cell_type": "code",
   "execution_count": 6,
   "metadata": {},
   "outputs": [],
   "source": [
    "\n",
    "#conn = http.client.HTTPSConnection(\"search.onboard-apis.com\") \n",
    "\n",
    "params = { \n",
    "    'accept': \"application/json\", \n",
    "    'apikey': \"9d078487e223b1c4d54c3f3a3f628803\", \n",
    "} "
   ]
  },
  {
   "cell_type": "code",
   "execution_count": null,
   "metadata": {},
   "outputs": [],
   "source": [
    "FullAddress=[]\n",
    "Street=[]\n",
    "CityStateZip=[]\n",
    "Latitude=[]\n",
    "Longitude=[]\n",
    "pd.Series(FullAddress)\n",
    "pd.Series(Latitude)\n",
    "pd.Series(Longitude)\n",
    "Data_set=pd.DataFrame({'FullAddress':pd.Series(FullAddress),'Street':pd.Series(Street),'CityStateZip':pd.Series(CityStateZip),'Latitude':pd.Series(Latitude),'Longitude':pd.Series(Longitude)})\n",
    "url=f\"https://search.onboard-apis.com/propertyapi/v1.0.0/property/address?postalcode=postalcode&page=1&pagesize=100\"\n",
    "for index, row in gazipcodes.iterrows():\n",
    "    postalcode=row['Zipcode']\n",
    "    url=f\"https://search.onboard-apis.com/propertyapi/v1.0.0/property/address?postalcode={postalcode}&page=1&pagesize=1000\"\n",
    "    res = requests.get(url,headers=params)\n",
    "    data =json.loads(res.text)\n",
    "    we=data\n",
    "    try:\n",
    "        d=pd.DataFrame(data['property'])\n",
    "        d['FullAddress']=d['address'].apply(lambda a:a['oneLine'])\n",
    "        d['Street']=d['address'].apply(lambda d:d['line1'])\n",
    "        d['CityStateZip']=d['address'].apply(lambda d:d['line2'])\n",
    "        d['Latitude']=d['location'].apply(lambda c:c['latitude'])\n",
    "        d['Longitude']=d['location'].apply(lambda b:b['longitude'])\n",
    "        datatoappend=d[['FullAddress','Street','CityStateZip','Latitude','Longitude']]\n",
    "        Data_set=Data_set.append(datatoappend)\n",
    "        \n",
    "    \n",
    "            \n",
    "    except (KeyError, IndexError):\n",
    "        print(\"Missing field/result... skipping.\")\n",
    "    \n"
   ]
  },
  {
   "cell_type": "code",
   "execution_count": 7,
   "metadata": {
    "scrolled": true
   },
   "outputs": [
    {
     "ename": "NameError",
     "evalue": "name 'Data_set' is not defined",
     "output_type": "error",
     "traceback": [
      "\u001b[1;31m---------------------------------------------------------------------------\u001b[0m",
      "\u001b[1;31mNameError\u001b[0m                                 Traceback (most recent call last)",
      "\u001b[1;32m<ipython-input-7-f9168b132685>\u001b[0m in \u001b[0;36m<module>\u001b[1;34m()\u001b[0m\n\u001b[1;32m----> 1\u001b[1;33m \u001b[0mData_set\u001b[0m\u001b[1;33m.\u001b[0m\u001b[0mhead\u001b[0m\u001b[1;33m(\u001b[0m\u001b[1;33m)\u001b[0m\u001b[1;33m\u001b[0m\u001b[0m\n\u001b[0m",
      "\u001b[1;31mNameError\u001b[0m: name 'Data_set' is not defined"
     ]
    }
   ],
   "source": [
    "Data_set.head()"
   ]
  },
  {
   "cell_type": "code",
   "execution_count": 8,
   "metadata": {},
   "outputs": [
    {
     "ename": "NameError",
     "evalue": "name 'Data_set' is not defined",
     "output_type": "error",
     "traceback": [
      "\u001b[1;31m---------------------------------------------------------------------------\u001b[0m",
      "\u001b[1;31mNameError\u001b[0m                                 Traceback (most recent call last)",
      "\u001b[1;32m<ipython-input-8-a71d539767ff>\u001b[0m in \u001b[0;36m<module>\u001b[1;34m()\u001b[0m\n\u001b[1;32m----> 1\u001b[1;33m \u001b[0mData_set\u001b[0m\u001b[1;33m[\u001b[0m\u001b[1;34m'Zilliw format add'\u001b[0m\u001b[1;33m]\u001b[0m\u001b[1;33m=\u001b[0m\u001b[0mData_set\u001b[0m\u001b[1;33m[\u001b[0m\u001b[1;34m'Street'\u001b[0m\u001b[1;33m]\u001b[0m\u001b[1;33m.\u001b[0m\u001b[0mreplace\u001b[0m\u001b[1;33m(\u001b[0m\u001b[1;34m\" \"\u001b[0m\u001b[1;33m,\u001b[0m \u001b[1;34m\"+\"\u001b[0m\u001b[1;33m,\u001b[0m\u001b[0mregex\u001b[0m\u001b[1;33m=\u001b[0m\u001b[1;32mTrue\u001b[0m\u001b[1;33m)\u001b[0m\u001b[1;33m\u001b[0m\u001b[0m\n\u001b[0m\u001b[0;32m      2\u001b[0m \u001b[0mData_set\u001b[0m\u001b[1;33m[\u001b[0m\u001b[1;34m'Zilliw format Zipciy'\u001b[0m\u001b[1;33m]\u001b[0m\u001b[1;33m=\u001b[0m\u001b[0mData_set\u001b[0m\u001b[1;33m[\u001b[0m\u001b[1;34m'CityStateZip'\u001b[0m\u001b[1;33m]\u001b[0m\u001b[1;33m.\u001b[0m\u001b[0mreplace\u001b[0m\u001b[1;33m(\u001b[0m\u001b[1;34m\" \"\u001b[0m\u001b[1;33m,\u001b[0m \u001b[1;34m\"+\"\u001b[0m\u001b[1;33m,\u001b[0m\u001b[0mregex\u001b[0m\u001b[1;33m=\u001b[0m\u001b[1;32mTrue\u001b[0m\u001b[1;33m)\u001b[0m\u001b[1;33m\u001b[0m\u001b[0m\n",
      "\u001b[1;31mNameError\u001b[0m: name 'Data_set' is not defined"
     ]
    }
   ],
   "source": [
    "Data_set['Zilliw format add']=Data_set['Street'].replace(\" \", \"+\",regex=True)\n",
    "Data_set['Zilliw format Zipciy']=Data_set['CityStateZip'].replace(\" \", \"+\",regex=True)\n"
   ]
  },
  {
   "cell_type": "code",
   "execution_count": 9,
   "metadata": {},
   "outputs": [
    {
     "ename": "NameError",
     "evalue": "name 'Data_set' is not defined",
     "output_type": "error",
     "traceback": [
      "\u001b[1;31m---------------------------------------------------------------------------\u001b[0m",
      "\u001b[1;31mNameError\u001b[0m                                 Traceback (most recent call last)",
      "\u001b[1;32m<ipython-input-9-1fadcc04d60e>\u001b[0m in \u001b[0;36m<module>\u001b[1;34m()\u001b[0m\n\u001b[1;32m----> 1\u001b[1;33m \u001b[0mData_set\u001b[0m\u001b[1;33m.\u001b[0m\u001b[0mto_csv\u001b[0m\u001b[1;33m(\u001b[0m\u001b[1;34m'data.csv'\u001b[0m\u001b[1;33m)\u001b[0m\u001b[1;33m\u001b[0m\u001b[0m\n\u001b[0m",
      "\u001b[1;31mNameError\u001b[0m: name 'Data_set' is not defined"
     ]
    }
   ],
   "source": [
    "Data_set.to_csv('data.csv')"
   ]
  },
  {
   "cell_type": "code",
   "execution_count": 10,
   "metadata": {
    "scrolled": false
   },
   "outputs": [
    {
     "ename": "SyntaxError",
     "evalue": "invalid syntax (<ipython-input-10-fbbb92ae27ab>, line 9)",
     "output_type": "error",
     "traceback": [
      "\u001b[1;36m  File \u001b[1;32m\"<ipython-input-10-fbbb92ae27ab>\"\u001b[1;36m, line \u001b[1;32m9\u001b[0m\n\u001b[1;33m    Data_set.\u001b[0m\n\u001b[1;37m             ^\u001b[0m\n\u001b[1;31mSyntaxError\u001b[0m\u001b[1;31m:\u001b[0m invalid syntax\n"
     ]
    }
   ],
   "source": [
    "Data_set['Zestimate']=\" \"\n",
    "Data_set['LastSoldPrice']=\" \"\n",
    "Data_set['Year Built']=\" \"\n",
    "Data_set['totalRooms']=\" \"\n",
    "Data_set['finishedSqFt']=\" \"\n",
    "Data_set['useCode']=\" \"\n",
    "Data_set['zpid']=\" \"\n",
    "Data_set.D\n",
    "Data_set."
   ]
  },
  {
   "cell_type": "code",
   "execution_count": 11,
   "metadata": {},
   "outputs": [],
   "source": [
    "#Next is to feed the addresess to zillow api\n",
    "# OpenWeatherMap API Key\n",
    "zid = 'X1-ZWz18cayvld3pn_8gte4'\n",
    "#api_key = api_keys.api_key\n",
    "\n",
    "# Starting URL for Weather Map API Call\n",
    "#url = \"http://api.openweathermap.org/data/2.5/weather?units=Imperial&APPID=\" + api_key \n",
    "\n",
    "#url = f\"http://www.zillow.com/webservice/GetDeepSearchResults.htm?zws-id={api_key}&address=109 TAYLOR BRIDGE RD SW&citystatezip=CALHOUN GA 30701\"  \n",
    "#url = f\"http://www.zillow.com/webservice/GetDeepSearchResults.htm?zws-id={api_key}&address=5888+Colonnade+Drive&citystatezip=Rex,+GA+30273\"  \n"
   ]
  },
  {
   "cell_type": "code",
   "execution_count": 12,
   "metadata": {},
   "outputs": [],
   "source": [
    "# response =requests.get(url)\n",
    "\n",
    "# w=response.content\n",
    "             \n",
    "\n"
   ]
  },
  {
   "cell_type": "code",
   "execution_count": null,
   "metadata": {},
   "outputs": [],
   "source": [
    "zpid=[]\n",
    "zest=[]\n",
    "addr =[]\n",
    "city=[]\n",
    "zipC=[]\n",
    "lat =[]\n",
    "lon =[]\n",
    "type=[]\n",
    "rooms=[]\n",
    "sqft=[]\n",
    "state=[]\n",
    "lastsoldprice=[]\n",
    "year_built=[]\n",
    "c_value=[]\n",
    "pricechge=[]\n",
    "county=[]\n",
    "zidx=[]\n",
    "\n",
    "\n",
    "#url = f\"http://www.zillow.com/webservice/GetDeepSearchResults.htm?zws-id={api_key}&address=5888+Colonnade+Drive&citystatezip=Rex,+GA+30273\"\n",
    "url2 = f\"http://www.zillow.com/webservice/GetDeepSearchResults.htm?zws-id={zid}&address={params2}\"\n",
    "w=[]\n",
    "for index, row in Data_set.iterrows():\n",
    "  # get city, lat, lng from df\n",
    "  # change location each iteration\n",
    "  add=row['Zilliw format add']\n",
    "  statezip=row['Zilliw format Zipciy']\n",
    "\n",
    "  # Use the search term: \"Specif ic Addresses of properties\"\n",
    "  params2=f'{add}&citystatezip={statezip}'\n",
    "  url2 = f\"http://www.zillow.com/webservice/GetDeepSearchResults.htm?zws-id={zid}&address={params2}\"\n",
    "\n",
    "  # make request and print url\n",
    "  response2 = requests.get(url2, params=params2)\n",
    "  #Store contents\n",
    "  we       = response2.content\n",
    "  #XML Parser t\n",
    "  tree=ET.fromstring(we)\n",
    "  results=tree.findall('./response/results/result')\n",
    "  #if its successful\n",
    "  if len(results)!=0:\n",
    "       re=results[0]\n",
    "       dic=xmltodict.parse(ET.tostring(re))\n",
    "\n",
    "       try:\n",
    "           Zid=dic['result'].get('zpid',np.nan)\n",
    "           zestimate=dic['result']['zestimate']['amount'].get('#text',np.nan)\n",
    "           strt=dic['result']['address'].get('street',np.nan)\n",
    "           zip=dic['result']['address'].get('zipcode',np.nan)\n",
    "           cit=dic['result']['address'].get('city',np.nan)\n",
    "           price=dic['result'].get('lastSoldPrice',np.nan)\n",
    "           room=dic['result'].get('bedrooms',np.nan)\n",
    "           usecode=dic['result'].get('useCode',np.nan)\n",
    "           sqftt=dic['result'].get('finishedSqFt',np.nan)\n",
    "           yearbuilt=dic['result'].get('yearBuilt',np.nan)\n",
    "           contyvalue=dic['result'].get('taxAssessment',np.nan)\n",
    "   #     sq=dic['result']['finishedSqFt']\n",
    "   #     year=dic['result']['yearBuilt']\n",
    "           year_built.append(yearbuilt)\n",
    "           zest.append(zestimate)\n",
    "           zpid.append(Zid)\n",
    "           addr.append(strt)\n",
    "           zipC.append(zip)\n",
    "           city.append(cit)\n",
    "           lastsoldprice.append(price)\n",
    "           rooms.append(room)\n",
    "           type.append(usecode)\n",
    "           sqft.append(sqftt)\n",
    "           c_value.append(contyvalue)\n",
    "           zestimate=[]\n",
    "           Zid=[]\n",
    "           price=[]\n",
    "           room=[]\n",
    "           usecode=[]\n",
    "           sqftt=[]\n",
    "           cit=[]\n",
    "           usecode=[]\n",
    "           yearbuilt=[]\n",
    "           contyvalue=[]\n",
    "           strt=[]\n",
    "           print(f'got it updating')\n",
    "           time.sleep(2)\n",
    "       except (KeyError, IndexError):\n",
    "           print(skip)\n",
    "\n"
   ]
  },
  {
   "cell_type": "code",
   "execution_count": null,
   "metadata": {},
   "outputs": [],
   "source": [
    "# zpid=[]\n",
    "# zest=[]\n",
    "# addr =[]\n",
    "# city=[]\n",
    "# zipC=[]\n",
    "# lat =[]\n",
    "# lon =[]\n",
    "# type=[]\n",
    "# rooms=[]\n",
    "# sqft=[]\n",
    "# state=[]\n",
    "# lastsoldprice=[]\n",
    "# year_built=[]\n",
    "# c_value=[]\n",
    "# pricechge=[]\n",
    "\n",
    "\n",
    "\n",
    "# #url = f\"http://www.zillow.com/webservice/GetDeepSearchResults.htm?zws-id={api_key}&address=5888+Colonnade+Drive&citystatezip=Rex,+GA+30273\"\n",
    "# url2 = f\"http://www.zillow.com/webservice/GetDeepSearchResults.htm?zws-id={zid}&address={params2}\"\n",
    "# w=[]\n",
    "# for index, row in Data_set.iterrows():\n",
    "#     # get city, lat, lng from df\n",
    "#     # change location each iteration \n",
    "#     add=row['Zilliw format add']\n",
    "#     statezip=row['Zilliw format Zipciy']\n",
    "    \n",
    "#     # Use the search term: \"Specif ic Addresses of properties\"\n",
    "#     params2=f'{add}&citystatezip={statezip}'\n",
    "#     url2 = f\"http://www.zillow.com/webservice/GetDeepSearchResults.htm?zws-id={zid}&address={params2}\"\n",
    "\n",
    "#     # make request and print url\n",
    "#     response2 = requests.get(url2, params=params2)\n",
    "#     #Store contents\n",
    "#     we       = response2.content\n",
    "#     #XML Parser t\n",
    "#     tree=ET.fromstring(we)\n",
    "#     results=tree.findall('./response/results/result')\n",
    "#     #if its successful\n",
    "#     if len(results)!=0:\n",
    "#             re=results[0] \n",
    "#             dic=xmltodict.parse(ET.tostring(re))\n",
    "#     try:\n",
    "#          Zid=dic['result'].get('zpid',\"none\")\n",
    "#          zestimate=dic['result']['zestimate']['amount'].get('#text',\"none\")\n",
    "#          strt=dic['result']['address'].get('street','none')\n",
    "#          zip=dic['result']['address'].get('zipcode','none')\n",
    "#          cit=dic['result']['address'].get('city','none')\n",
    "#          price=dic['result'].get('lastSoldPrice','none')\n",
    "#          room=dic['result'].get('bedrooms','None')\n",
    "#          usecode=dic['result'].get('useCode',\"none\")\n",
    "#          sqftt=dic['result'].get('finishedSqFt','None')\n",
    "#          yearbuilt=dic['result'].get('yearBuilt',\"none\")\n",
    "#          contyvalue=dic['result'].get('taxAssessment',0)\n",
    "# #     sq=dic['result']['finishedSqFt']\n",
    "# #     year=dic['result']['yearBuilt']\n",
    "#          year_built.append(yearbuilt)\n",
    "#          zest.append(zestimate)\n",
    "#          zpid.append(Zid)\n",
    "#          addr.append(strt)\n",
    "#          zipC.append(zip)\n",
    "#          city.append(cit)\n",
    "#          lastsoldprice.append(price)\n",
    "#          rooms.append(room)\n",
    "#          type.append(usecode)\n",
    "#          sqft.append(sqftt)\n",
    "#          c_value.append(contyvalue)\n",
    "#          zestimate=[]\n",
    "#          Zid=[]\n",
    "#          price=[]\n",
    "#          room=[]\n",
    "#          usecode=[]\n",
    "#          sqftt=[]\n",
    "#          cit=[]\n",
    "#          usecode=[]\n",
    "#          yearbuilt=[]\n",
    "#          contyvalue=[]\n",
    "#          strt=[]\n",
    "#          print(f'got it updating')\n",
    "#     except (KeyError, IndexError):\n",
    "#         print(skip)\n",
    "        \n"
   ]
  },
  {
   "cell_type": "code",
   "execution_count": null,
   "metadata": {
    "scrolled": false
   },
   "outputs": [],
   "source": [
    "y=pd.DataFrame({'Zillow Id':pd.Series(zpid),'Zestimate':pd.Series(zest),'Street':pd.Series(addr),'City':pd.Series(city),'ZipCode':pd.Series(zipC),'lastSold':pd.Series(lastsoldprice),'Bedrooms':pd.Series(rooms),'typeofhome':pd.Series(type),'Squareft':pd.Series(sqft),'YearBuilt':pd.Series(year_built),'CountTax':pd.Series(c_value)})"
   ]
  },
  {
   "cell_type": "code",
   "execution_count": null,
   "metadata": {},
   "outputs": [],
   "source": [
    "y['MaktVale']=pd.to_numeric(y['CountTax'])*2.5\n",
    "y.head()"
   ]
  },
  {
   "cell_type": "code",
   "execution_count": null,
   "metadata": {},
   "outputs": [],
   "source": [
    "plt.suptitle(f'Latitude Vrs Tem {time.ctime()}')\n",
    "plt.scatter(city_data['Latitude'],city_data['Temperature'],alpha=0.85,c='blue',edgecolor = 'black', label = 'Temp')\n",
    "plt.xlabel('Latitude')\n",
    "plt.ylabel('Temperature')\n",
    "plt.text(43,40,\" Latitude.\")\n",
    "plt.legend()\n",
    "plt.grid()\n",
    "plt.show()\n",
    "\n",
    "plt.savefig('Temp.png')"
   ]
  },
  {
   "cell_type": "code",
   "execution_count": null,
   "metadata": {},
   "outputs": [],
   "source": []
  },
  {
   "cell_type": "code",
   "execution_count": null,
   "metadata": {},
   "outputs": [],
   "source": [
    "plt.suptitle(f'Latitude Vrs Humidity {time.ctime()}')\n",
    "plt.scatter(city_data['Latitude'],city_data['Humidity'],alpha=0.85,c='blue',edgecolor = 'black', label = 'Humidity')\n",
    "plt.xlabel('Latitude')\n",
    "plt.ylabel('Humidity')\n",
    "plt.text(43,90,\" Latitude.\")\n",
    "plt.ylim(-1,110)\n",
    "plt.legend()\n",
    "plt.grid()\n",
    "plt.show()\n",
    "\n",
    "plt.savefig('Humidity.png')"
   ]
  },
  {
   "cell_type": "code",
   "execution_count": null,
   "metadata": {},
   "outputs": [],
   "source": [
    "plt.suptitle(f'Latitude Vrs Cloudiness {time.ctime()}')\n",
    "plt.scatter(city_data['Latitude'],city_data['Cloudiness'],alpha=0.85,c='blue',edgecolor = 'black', label = 'Cloudiness')\n",
    "plt.xlabel('Latitude')\n",
    "plt.ylabel('Cloudiness)')\n",
    "plt.text(43,40,\" Latitude.\")\n",
    "plt.legend()\n",
    "plt.grid()\n",
    "plt.show()\n",
    "\n",
    "plt.savefig('Cloudiness.png')"
   ]
  },
  {
   "cell_type": "code",
   "execution_count": null,
   "metadata": {},
   "outputs": [],
   "source": [
    "plt.suptitle(f'Latitude Vrs WindSpeed {time.ctime()}')\n",
    "plt.scatter(city_data['Latitude'],city_data['WindSpeed'],alpha=0.85,c='blue',edgecolor = 'black', label = 'WindSpeedp')\n",
    "plt.xlabel('Latitude')\n",
    "plt.ylabel('WindSpeed)')\n",
    "plt.text(43,40,\" Latitude.\")\n",
    "plt.legend()\n",
    "plt.grid()\n",
    "plt.show()\n",
    "\n",
    "plt.savefig('WindSpeed.png')"
   ]
  }
 ],
 "metadata": {
  "anaconda-cloud": {},
  "kernelspec": {
   "display_name": "Python 3",
   "language": "python",
   "name": "python3"
  },
  "language_info": {
   "codemirror_mode": {
    "name": "ipython",
    "version": 3
   },
   "file_extension": ".py",
   "mimetype": "text/x-python",
   "name": "python",
   "nbconvert_exporter": "python",
   "pygments_lexer": "ipython3",
   "version": "3.6.5"
  }
 },
 "nbformat": 4,
 "nbformat_minor": 1
}
