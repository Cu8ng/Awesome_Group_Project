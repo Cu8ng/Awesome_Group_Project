{
 "cells": [
  {
   "cell_type": "code",
   "execution_count": null,
   "metadata": {
    "scrolled": true
   },
   "outputs": [],
   "source": [
    "# Dependencies and Setup\n",
    "%matplotlib inline\n",
    "import matplotlib.pyplot as plt\n",
    "import pandas as pd\n",
    "import numpy as np\n",
    "import requests\n",
    "import time\n",
    "import json\n",
    "import re\n",
    "import xml.etree.ElementTree as ET\n",
    "import xmltodict\n",
    "import collections\n",
    "import itertools\n",
    "from scipy import stats\n",
    "import statsmodels.api as sm \n",
    "\n",
    "import matplotlib.pyplot as plt\n",
    "from ratelimit import limits, sleep_and_retry\n",
    "# Import API key\n"
   ]
  },
  {
   "cell_type": "code",
   "execution_count": null,
   "metadata": {},
   "outputs": [],
   "source": [
    "StateSelected = ['GA']"
   ]
  },
  {
   "cell_type": "code",
   "execution_count": null,
   "metadata": {},
   "outputs": [],
   "source": [
    "zipcodes=pd.read_csv('free-zipcode-database-Primary.csv')\n",
    "zipcodes.head()"
   ]
  },
  {
   "cell_type": "code",
   "execution_count": null,
   "metadata": {},
   "outputs": [],
   "source": [
    "gazipcodes= zipcodes[zipcodes.State.isin(StateSelected)]"
   ]
  },
  {
   "cell_type": "code",
   "execution_count": null,
   "metadata": {},
   "outputs": [],
   "source": [
    "gazipcodes=gazipcodes.head(10)\n",
    "len(gazipcodes)"
   ]
  },
  {
   "cell_type": "markdown",
   "metadata": {},
   "source": [
    "## Perform API Calls"
   ]
  },
  {
   "cell_type": "code",
   "execution_count": null,
   "metadata": {},
   "outputs": [],
   "source": [
    "\n",
    "#conn = http.client.HTTPSConnection(\"search.onboard-apis.com\") \n",
    "\n",
    "params = { \n",
    "    'accept': \"application/json\", \n",
    "    'apikey': \"9d078487e223b1c4d54c3f3a3f628803\", \n",
    "} "
   ]
  },
  {
   "cell_type": "code",
   "execution_count": null,
   "metadata": {},
   "outputs": [],
   "source": [
    "FullAddress=[]\n",
    "Street=[]\n",
    "CityStateZip=[]\n",
    "Latitude=[]\n",
    "Longitude=[]\n",
    "pd.Series(FullAddress)\n",
    "pd.Series(Latitude)\n",
    "pd.Series(Longitude)\n",
    "Data_set=pd.DataFrame({'FullAddress':pd.Series(FullAddress),'Street':pd.Series(Street),\n",
    "                       'CityStateZip':pd.Series(CityStateZip),'Latitude':pd.Series(Latitude),'Longitude':pd.Series(Longitude)})\n",
    "url=f\"https://search.onboard-apis.com/propertyapi/v1.0.0/property/address?postalcode=postalcode&page=1&pagesize=100\"\n",
    "for index, row in gazipcodes.iterrows():\n",
    "    postalcode=row['Zipcode']\n",
    "    url=f\"https://search.onboard-apis.com/propertyapi/v1.0.0/property/address?postalcode={postalcode}&page=1&pagesize=1000\"\n",
    "    res = requests.get(url,headers=params)\n",
    "    data =json.loads(res.text)\n",
    "    we=data\n",
    "    try:\n",
    "        d=pd.DataFrame(data['property'])\n",
    "        d['FullAddress']=d['address'].apply(lambda a:a['oneLine'])\n",
    "        d['Street']=d['address'].apply(lambda d:d['line1'])\n",
    "        d['CityStateZip']=d['address'].apply(lambda d:d['line2'])\n",
    "        d['Latitude']=d['location'].apply(lambda c:c['latitude'])\n",
    "        d['Longitude']=d['location'].apply(lambda b:b['longitude'])\n",
    "        datatoappend=d[['FullAddress','Street','CityStateZip','Latitude','Longitude']]\n",
    "        Data_set=Data_set.append(datatoappend)\n",
    "        \n",
    "    \n",
    "            \n",
    "    except (KeyError, IndexError):\n",
    "        print(\"Missing field/result... skipping.\")\n",
    "    \n"
   ]
  },
  {
   "cell_type": "code",
   "execution_count": null,
   "metadata": {
    "scrolled": true
   },
   "outputs": [],
   "source": [
    "Data_set.head()"
   ]
  },
  {
   "cell_type": "code",
   "execution_count": null,
   "metadata": {},
   "outputs": [],
   "source": [
    "Data_set['Zilliw format add']=Data_set['Street'].replace(\" \", \"+\",regex=True)\n",
    "Data_set['Zilliw format Zipciy']=Data_set['CityStateZip'].replace(\" \", \"+\",regex=True)\n"
   ]
  },
  {
   "cell_type": "code",
   "execution_count": null,
   "metadata": {
    "scrolled": false
   },
   "outputs": [],
   "source": [
    "\n",
    "DataSet=Data_set.head(100)\n"
   ]
  },
  {
   "cell_type": "code",
   "execution_count": null,
   "metadata": {},
   "outputs": [],
   "source": [
    "# C:\\Users\\cuong\\Downloads\\data_random3.csv\n",
    "Data_set2 = pd.read_csv(\"C:/Users/cuong/Downloads/data_random3.csv\")\n",
    "Data_set2 = Data_set2.head(1000)\n",
    "Data_set2"
   ]
  },
  {
   "cell_type": "code",
   "execution_count": null,
   "metadata": {},
   "outputs": [],
   "source": [
    "#Next is to feed the addresess to zillow api\n",
    "# OpenWeatherMap API Key\n",
    "# X1-ZWz18cbenu9jij_85kuc ----- Cuong API\n",
    "zid = 'X1-ZWz1go72alddzf_8469v'\n",
    "#api_key = api_keys.api_key"
   ]
  },
  {
   "cell_type": "code",
   "execution_count": null,
   "metadata": {},
   "outputs": [],
   "source": [
    "zpid=[]\n",
    "zest=[]\n",
    "addr =[]\n",
    "city=[]\n",
    "zipC=[]\n",
    "type=[]\n",
    "rooms=[]\n",
    "sqft=[]\n",
    "state=[]\n",
    "lastsoldprice=[]\n",
    "lastsolddate=[]\n",
    "year_built=[]\n",
    "c_value=[]\n",
    "county=[]\n",
    "lat =[]\n",
    "lon =[]\n",
    "Zindex =[]\n",
    "\n",
    "for index, row in Data_set2.iterrows():\n",
    "    add=row['Zilliw format add']\n",
    "    statezip=row['Zilliw format Zipciy']\n",
    "    params2=f'{add}&citystatezip={statezip}'\n",
    "    url2 = f\"http://www.zillow.com/webservice/GetDeepSearchResults.htm?zws-id={zid}&address={params2}\"\n",
    "\n",
    "   \n",
    "    response2 = requests.get(url2, params=params2)\n",
    " \n",
    "    we=response2.content\n",
    "   \n",
    "    tree=ET.fromstring(we)\n",
    "    results=tree.findall('./response/results/result')\n",
    "    \n",
    "    if len(results)!=0:\n",
    "        re=results[0] \n",
    "        dic=xmltodict.parse(ET.tostring(re))\n",
    "        try: \n",
    "            \n",
    "             Zid=dic['result'].get('zpid',np.nan)\n",
    "             zestimate=dic['result']['zestimate']['amount'].get('#text',np.nan)\n",
    "             strt=dic['result']['address'].get('street',np.nan)\n",
    "             zip=dic['result']['address'].get('zipcode',np.nan)\n",
    "             cit=dic['result']['address'].get('city',np.nan)\n",
    "             price=dic['result'].get('lastSoldPrice',np.nan)\n",
    "             solddate=dic['result'].get('lastSoldDate',np.nan)\n",
    "             room=dic['result'].get('bedrooms',np.nan)\n",
    "             usecode=dic['result'].get('useCode',np.nan)\n",
    "             sqftt=dic['result'].get('finishedSqFt',np.nan)\n",
    "             yearbuilt=dic['result'].get('yearBuilt',np.nan)\n",
    "             contyvalue=dic['result'].get('taxAssessment',np.nan)\n",
    "             Zindx =dic['result'].get('localRealEstate',np.nan)\n",
    "             year_built.append(yearbuilt)\n",
    "             lati=dic['result']['address'].get('latitude',np.nan)\n",
    "             longi=dic['result']['address'].get('longitude',np.nan)\n",
    "             lon.append(longi)\n",
    "             lat.append(lati)\n",
    "             zest.append(zestimate)\n",
    "             zpid.append(Zid)\n",
    "             addr.append(strt)\n",
    "             zipC.append(zip)\n",
    "             city.append(cit)\n",
    "             lastsoldprice.append(price)\n",
    "             rooms.append(room)\n",
    "             type.append(usecode)\n",
    "             sqft.append(sqftt)\n",
    "             c_value.append(contyvalue)\n",
    "             lastsolddate.append(solddate)\n",
    "             Zindex.append(Zindx)\n",
    "             longi=[]\n",
    "             lati=[]\n",
    "             Zindx=[]\n",
    "             solddate=[]\n",
    "             zestimate=[]\n",
    "             Zid=[]\n",
    "             price=[]\n",
    "             room=[]\n",
    "             usecode=[]\n",
    "             sqftt=[]\n",
    "             cit=[]\n",
    "             usecode=[]\n",
    "             yearbuilt=[]\n",
    "             contyvalue=[]\n",
    "             strt=[]\n",
    "             print(f'got it updating')\n",
    "             \n",
    "        except (KeyError, IndexError):\n",
    "             print(skip)\n",
    "        \n"
   ]
  },
  {
   "cell_type": "code",
   "execution_count": null,
   "metadata": {},
   "outputs": [],
   "source": [
    "re"
   ]
  },
  {
   "cell_type": "code",
   "execution_count": null,
   "metadata": {
    "scrolled": false
   },
   "outputs": [],
   "source": [
    "d=pd.DataFrame({'Zillow Id':pd.Series(zpid),'Zestimate':pd.Series(zest),'Street':pd.Series(addr),\\\n",
    "                'City':pd.Series(city),'ZipCode':pd.Series(zipC),'lastSold':pd.Series(lastsoldprice),\\\n",
    "                'Bedrooms':pd.Series(rooms),'typeofhome':pd.Series(type),'Squareft':pd.Series(sqft),\\\n",
    "              'YearBuilt':pd.Series(year_built),'CountTax':pd.Series(c_value),\\\n",
    "              'Latitude':pd.Series(lat),'Longitude':pd.Series(lon),'LastSoldDate':pd.Series(lastsolddate),\\\n",
    "                'Z_index':pd.Series(Zindex)})\n",
    "              "
   ]
  },
  {
   "cell_type": "code",
   "execution_count": null,
   "metadata": {},
   "outputs": [],
   "source": [
    "df=d.drop_duplicates(['Zillow Id'])\n",
    "df.head()"
   ]
  },
  {
   "cell_type": "code",
   "execution_count": null,
   "metadata": {},
   "outputs": [],
   "source": [
    "dic"
   ]
  },
  {
   "cell_type": "code",
   "execution_count": null,
   "metadata": {},
   "outputs": [],
   "source": [
    "df['LastSold']=df['lastSold'].apply(lambda l: l.get('#text', np.nan) if isinstance(l, dict) else np.nan)\n",
    "df['Zindex']=df['Z_index'].apply(lambda l: l.get('region', np.nan) if isinstance(l, dict) else np.nan)\n",
    "df['Z_index']=df['Zindex'].apply(lambda l: l.get('zindexValue', np.nan) if isinstance(l, dict) else np.nan)\n",
    "df.head(10)"
   ]
  },
  {
   "cell_type": "code",
   "execution_count": null,
   "metadata": {},
   "outputs": [],
   "source": [
    "df.head()"
   ]
  },
  {
   "cell_type": "code",
   "execution_count": null,
   "metadata": {
    "scrolled": true
   },
   "outputs": [],
   "source": [
    "df.columns"
   ]
  },
  {
   "cell_type": "code",
   "execution_count": null,
   "metadata": {},
   "outputs": [],
   "source": [
    "selected=['Zestimate', 'ZipCode',\\\n",
    "           'Bedrooms', 'typeofhome', 'Squareft', 'YearBuilt', 'CountTax',\\\n",
    "           'LastSold','Z_index']"
   ]
  },
  {
   "cell_type": "code",
   "execution_count": null,
   "metadata": {},
   "outputs": [],
   "source": [
    "dfreg=df[selected]\n"
   ]
  },
  {
   "cell_type": "code",
   "execution_count": null,
   "metadata": {},
   "outputs": [],
   "source": [
    "dfreg['typeofhome'].value_counts()"
   ]
  },
  {
   "cell_type": "code",
   "execution_count": null,
   "metadata": {},
   "outputs": [],
   "source": [
    "dfreg"
   ]
  },
  {
   "cell_type": "code",
   "execution_count": null,
   "metadata": {},
   "outputs": [],
   "source": [
    "dselect=dfreg[['Zestimate', 'Bedrooms','YearBuilt','Squareft', 'CountTax', 'LastSold']]\n",
    "#dselect['Z_index']=pd.to_numeric(dselect['Z_index'],errors='coerce',downcast='integer')\n",
    "dselect=dselect.dropna(how='any')\n",
    "#X,Y=dselect['Zestimate'],dselect['Bedrooms','YearBuilt']\n",
    "dselect['YearBuilt']=pd.to_numeric(dselect['YearBuilt'])\n",
    "\n",
    "X = dselect[['Bedrooms','Squareft','Zestimate','CountTax']]\n",
    "Y = dselect['LastSold']"
   ]
  },
  {
   "cell_type": "code",
   "execution_count": null,
   "metadata": {
    "scrolled": true
   },
   "outputs": [],
   "source": [
    "X1 = sm.add_constant(X)\n",
    "reg = sm.OLS(Y.astype(float), X1.astype(float)).fit()\n",
    "\n",
    "reg.summary()"
   ]
  },
  {
   "cell_type": "code",
   "execution_count": null,
   "metadata": {},
   "outputs": [],
   "source": [
    "plt.scatter(X,Y)\n",
    "plt.ylabel('Zestimate')\n",
    "plt.xlabel('Bedrooms')\n",
    "plt.show()"
   ]
  },
  {
   "cell_type": "code",
   "execution_count": null,
   "metadata": {},
   "outputs": [],
   "source": [
    "# df.to_csv(\"CuongPart3.csv\")"
   ]
  },
  {
   "cell_type": "code",
   "execution_count": null,
   "metadata": {},
   "outputs": [],
   "source": []
  }
 ],
 "metadata": {
  "anaconda-cloud": {},
  "kernelspec": {
   "display_name": "Python 3",
   "language": "python",
   "name": "python3"
  },
  "language_info": {
   "codemirror_mode": {
    "name": "ipython",
    "version": 3
   },
   "file_extension": ".py",
   "mimetype": "text/x-python",
   "name": "python",
   "nbconvert_exporter": "python",
   "pygments_lexer": "ipython3",
   "version": "3.6.5"
  }
 },
 "nbformat": 4,
 "nbformat_minor": 1
}
