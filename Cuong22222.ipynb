{
 "cells": [
  {
   "cell_type": "code",
   "execution_count": null,
   "metadata": {},
   "outputs": [],
   "source": [
    "import numpy as np\n",
    "import pandas as pd\n",
    "\n",
    "from scipy import stats\n",
    "import statsmodels.api as sm \n",
    "\n",
    "import matplotlib.pyplot as plt"
   ]
  },
  {
   "cell_type": "code",
   "execution_count": null,
   "metadata": {},
   "outputs": [],
   "source": [
    "# C:\\Users\\cuong\\OneDrive\\DataScience\\Group-Project\\Awesome-Group-Project\\Combineddata.csv\n",
    "zillow_data = pd.read_csv('Combineddata.csv')"
   ]
  },
  {
   "cell_type": "code",
   "execution_count": null,
   "metadata": {
    "scrolled": true
   },
   "outputs": [],
   "source": [
    "zillow_data"
   ]
  },
  {
   "cell_type": "code",
   "execution_count": null,
   "metadata": {},
   "outputs": [],
   "source": [
    "selected=['Zestimate', 'ZipCode','City',\\\n",
    "          'Bedrooms', 'typeofhome', 'Squareft', 'YearBuilt', 'CountTax',\\\n",
    "          'LastSold','Z_index']\n",
    "dfreg=zillow_data[selected]\n",
    "dfreg.City=dfreg.City.map(lambda x: x.upper())"
   ]
  },
  {
   "cell_type": "code",
   "execution_count": null,
   "metadata": {},
   "outputs": [],
   "source": [
    "dfreg.head()"
   ]
  },
  {
   "cell_type": "code",
   "execution_count": null,
   "metadata": {},
   "outputs": [],
   "source": [
    "dfreg=zillow_data[selected]\n",
    "dfreg.City=dfreg.City.map(lambda x: x.upper())\n",
    "dselect=dfreg[['LastSold', 'Bedrooms','YearBuilt','Squareft']]\n",
    "dselect=dselect.dropna(how='any')"
   ]
  },
  {
   "cell_type": "markdown",
   "metadata": {},
   "source": [
    "### Univariate Regression"
   ]
  },
  {
   "cell_type": "code",
   "execution_count": null,
   "metadata": {},
   "outputs": [],
   "source": [
    "dselect=dfreg[['Bedrooms', 'LastSold']]\n",
    "zdata=dselect.dropna(how='any')\n",
    "\n",
    "dselect2=dfreg[['Bedrooms', 'Zestimate']]\n",
    "zdata2=dselect2.dropna(how='any')"
   ]
  },
  {
   "cell_type": "code",
   "execution_count": null,
   "metadata": {},
   "outputs": [],
   "source": [
    "X = zdata['Bedrooms']\n",
    "Y = zdata['LastSold']\n",
    "\n",
    "Xa = zdata2['Bedrooms']\n",
    "Ya = zdata2['Zestimate']\n"
   ]
  },
  {
   "cell_type": "code",
   "execution_count": null,
   "metadata": {},
   "outputs": [],
   "source": [
    "\n",
    "plt.scatter(X,Y,alpha=0.95,c='b',edgecolor = 'r')\n",
    "plt.xlabel('Bedrooms')\n",
    "plt.ylabel('LastSold($)')\n",
    "plt.ylim(0,3500000)\n",
    "plt.xlim(-0.1,10)\n",
    "plt.legend()\n",
    "plt.grid()\n",
    "plt.title('LastSold($) VS Bedrooms')\n",
    "plt.show()\n",
    "\n",
    "\n",
    "plt.scatter(Xa,Ya,alpha=0.95,c='b',edgecolor = 'r')\n",
    "plt.xlabel('Bedrooms')\n",
    "plt.ylabel('Zestimate($)')\n",
    "plt.ylim(0,3500000)\n",
    "plt.xlim(-0.1,10)\n",
    "plt.legend()\n",
    "plt.grid()\n",
    "plt.title('Zestimate($) VS Bedrooms')\n",
    "plt.show()"
   ]
  },
  {
   "cell_type": "code",
   "execution_count": null,
   "metadata": {},
   "outputs": [],
   "source": [
    "dselect=dfreg[['Squareft', 'LastSold']]\n",
    "zdata=dselect.dropna(how='any')\n",
    "\n",
    "dselect2=dfreg[['Squareft', 'Zestimate']]\n",
    "zdata2=dselect2.dropna(how='any')"
   ]
  },
  {
   "cell_type": "code",
   "execution_count": null,
   "metadata": {},
   "outputs": [],
   "source": [
    "X1 = zdata['Squareft']\n",
    "Y1 = zdata['LastSold']\n",
    "\n",
    "Xb = zdata2['Squareft']\n",
    "Yb = zdata2['Zestimate']"
   ]
  },
  {
   "cell_type": "code",
   "execution_count": null,
   "metadata": {},
   "outputs": [],
   "source": [
    "plt.scatter(X1,Y1,alpha=0.95,c='b',edgecolor = 'black')\n",
    "plt.xlabel('Squareft')\n",
    "plt.ylabel('LastSold($)')\n",
    "plt.ylim(0,800000)\n",
    "plt.xlim(-0.1,5000)\n",
    "plt.legend()\n",
    "plt.grid()\n",
    "plt.title('LastSold($) VS Squareft')\n",
    "plt.show()\n",
    "\n",
    "plt.scatter(Xb,Yb,alpha=0.95,c='b',edgecolor = 'black')\n",
    "plt.xlabel('Squareft')\n",
    "plt.ylabel('Zestimate($)')\n",
    "plt.ylim(0,800000)\n",
    "plt.xlim(-0.1,6000)\n",
    "plt.legend()\n",
    "plt.grid()\n",
    "plt.title('Zestimate($) VS Squareft')\n",
    "plt.show()"
   ]
  },
  {
   "cell_type": "code",
   "execution_count": null,
   "metadata": {},
   "outputs": [],
   "source": [
    "dselect=dfreg[['YearBuilt', 'LastSold']]\n",
    "zdata=dselect.dropna(how='any')\n",
    "\n",
    "dselect2=dfreg[['YearBuilt', 'Zestimate']]\n",
    "zdata2=dselect2.dropna(how='any')"
   ]
  },
  {
   "cell_type": "code",
   "execution_count": null,
   "metadata": {},
   "outputs": [],
   "source": [
    "X2 = zdata['YearBuilt']\n",
    "Y2 = zdata['LastSold']\n",
    "\n",
    "Xc = zdata2['YearBuilt']\n",
    "Yc = zdata2['Zestimate']"
   ]
  },
  {
   "cell_type": "code",
   "execution_count": null,
   "metadata": {},
   "outputs": [],
   "source": [
    "plt.scatter(X2,Y2,alpha=0.95,c='b',edgecolor = 'k')\n",
    "plt.xlabel('YearBuilt')\n",
    "plt.ylabel('LastSold($)')\n",
    "plt.ylim(0,500000)\n",
    "plt.xlim(1900,2020)\n",
    "plt.legend()\n",
    "plt.grid()\n",
    "plt.title('LastSold($) VS YearBuilt')\n",
    "plt.show()\n",
    "\n",
    "\n",
    "plt.scatter(Xc,Yc,alpha=0.95,c='b',edgecolor = 'k')\n",
    "plt.xlabel('YearBuilt')\n",
    "plt.ylabel('Zestimate($)')\n",
    "plt.ylim(0,800000)\n",
    "plt.xlim(1900,2020)\n",
    "plt.legend()\n",
    "plt.grid()\n",
    "plt.title('Zestimate($) VS YearBuilt')\n",
    "plt.show()"
   ]
  }
 ],
 "metadata": {
  "kernelspec": {
   "display_name": "Python 3",
   "language": "python",
   "name": "python3"
  },
  "language_info": {
   "codemirror_mode": {
    "name": "ipython",
    "version": 3
   },
   "file_extension": ".py",
   "mimetype": "text/x-python",
   "name": "python",
   "nbconvert_exporter": "python",
   "pygments_lexer": "ipython3",
   "version": "3.6.5"
  }
 },
 "nbformat": 4,
 "nbformat_minor": 2
}
