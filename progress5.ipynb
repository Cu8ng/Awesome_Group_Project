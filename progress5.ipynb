{
 "cells": [
  {
   "cell_type": "code",
   "execution_count": 1,
   "metadata": {
    "scrolled": true
   },
   "outputs": [],
   "source": [
    "# Dependencies and Setup\n",
    "%matplotlib inline\n",
    "import matplotlib.pyplot as plt\n",
    "import pandas as pd\n",
    "import numpy as np\n",
    "import requests\n",
    "import time\n",
    "import json\n",
    "import re\n",
    "import xml.etree.ElementTree as ET\n",
    "import xmltodict\n",
    "import collections\n",
    "import itertools\n",
    "from ratelimit import limits, sleep_and_retry\n",
    "# Import API key\n"
   ]
  },
  {
   "cell_type": "code",
   "execution_count": 2,
   "metadata": {},
   "outputs": [],
   "source": [
    "StateSelected = ['GA']"
   ]
  },
  {
   "cell_type": "code",
   "execution_count": 3,
   "metadata": {},
   "outputs": [
    {
     "data": {
      "text/html": [
       "<div>\n",
       "<style scoped>\n",
       "    .dataframe tbody tr th:only-of-type {\n",
       "        vertical-align: middle;\n",
       "    }\n",
       "\n",
       "    .dataframe tbody tr th {\n",
       "        vertical-align: top;\n",
       "    }\n",
       "\n",
       "    .dataframe thead th {\n",
       "        text-align: right;\n",
       "    }\n",
       "</style>\n",
       "<table border=\"1\" class=\"dataframe\">\n",
       "  <thead>\n",
       "    <tr style=\"text-align: right;\">\n",
       "      <th></th>\n",
       "      <th>Zipcode</th>\n",
       "      <th>ZipCodeType</th>\n",
       "      <th>City</th>\n",
       "      <th>State</th>\n",
       "      <th>LocationType</th>\n",
       "      <th>Lat</th>\n",
       "      <th>Long</th>\n",
       "      <th>Location</th>\n",
       "      <th>Decommisioned</th>\n",
       "      <th>TaxReturnsFiled</th>\n",
       "      <th>EstimatedPopulation</th>\n",
       "      <th>TotalWages</th>\n",
       "    </tr>\n",
       "  </thead>\n",
       "  <tbody>\n",
       "    <tr>\n",
       "      <th>0</th>\n",
       "      <td>705</td>\n",
       "      <td>STANDARD</td>\n",
       "      <td>AIBONITO</td>\n",
       "      <td>PR</td>\n",
       "      <td>PRIMARY</td>\n",
       "      <td>18.14</td>\n",
       "      <td>-66.26</td>\n",
       "      <td>NA-US-PR-AIBONITO</td>\n",
       "      <td>False</td>\n",
       "      <td>NaN</td>\n",
       "      <td>NaN</td>\n",
       "      <td>NaN</td>\n",
       "    </tr>\n",
       "    <tr>\n",
       "      <th>1</th>\n",
       "      <td>610</td>\n",
       "      <td>STANDARD</td>\n",
       "      <td>ANASCO</td>\n",
       "      <td>PR</td>\n",
       "      <td>PRIMARY</td>\n",
       "      <td>18.28</td>\n",
       "      <td>-67.14</td>\n",
       "      <td>NA-US-PR-ANASCO</td>\n",
       "      <td>False</td>\n",
       "      <td>NaN</td>\n",
       "      <td>NaN</td>\n",
       "      <td>NaN</td>\n",
       "    </tr>\n",
       "    <tr>\n",
       "      <th>2</th>\n",
       "      <td>611</td>\n",
       "      <td>PO BOX</td>\n",
       "      <td>ANGELES</td>\n",
       "      <td>PR</td>\n",
       "      <td>PRIMARY</td>\n",
       "      <td>18.28</td>\n",
       "      <td>-66.79</td>\n",
       "      <td>NA-US-PR-ANGELES</td>\n",
       "      <td>False</td>\n",
       "      <td>NaN</td>\n",
       "      <td>NaN</td>\n",
       "      <td>NaN</td>\n",
       "    </tr>\n",
       "    <tr>\n",
       "      <th>3</th>\n",
       "      <td>612</td>\n",
       "      <td>STANDARD</td>\n",
       "      <td>ARECIBO</td>\n",
       "      <td>PR</td>\n",
       "      <td>PRIMARY</td>\n",
       "      <td>18.45</td>\n",
       "      <td>-66.73</td>\n",
       "      <td>NA-US-PR-ARECIBO</td>\n",
       "      <td>False</td>\n",
       "      <td>NaN</td>\n",
       "      <td>NaN</td>\n",
       "      <td>NaN</td>\n",
       "    </tr>\n",
       "    <tr>\n",
       "      <th>4</th>\n",
       "      <td>601</td>\n",
       "      <td>STANDARD</td>\n",
       "      <td>ADJUNTAS</td>\n",
       "      <td>PR</td>\n",
       "      <td>PRIMARY</td>\n",
       "      <td>18.16</td>\n",
       "      <td>-66.72</td>\n",
       "      <td>NA-US-PR-ADJUNTAS</td>\n",
       "      <td>False</td>\n",
       "      <td>NaN</td>\n",
       "      <td>NaN</td>\n",
       "      <td>NaN</td>\n",
       "    </tr>\n",
       "  </tbody>\n",
       "</table>\n",
       "</div>"
      ],
      "text/plain": [
       "   Zipcode ZipCodeType      City State LocationType    Lat   Long  \\\n",
       "0      705    STANDARD  AIBONITO    PR      PRIMARY  18.14 -66.26   \n",
       "1      610    STANDARD    ANASCO    PR      PRIMARY  18.28 -67.14   \n",
       "2      611      PO BOX   ANGELES    PR      PRIMARY  18.28 -66.79   \n",
       "3      612    STANDARD   ARECIBO    PR      PRIMARY  18.45 -66.73   \n",
       "4      601    STANDARD  ADJUNTAS    PR      PRIMARY  18.16 -66.72   \n",
       "\n",
       "            Location  Decommisioned  TaxReturnsFiled  EstimatedPopulation  \\\n",
       "0  NA-US-PR-AIBONITO          False              NaN                  NaN   \n",
       "1    NA-US-PR-ANASCO          False              NaN                  NaN   \n",
       "2   NA-US-PR-ANGELES          False              NaN                  NaN   \n",
       "3   NA-US-PR-ARECIBO          False              NaN                  NaN   \n",
       "4  NA-US-PR-ADJUNTAS          False              NaN                  NaN   \n",
       "\n",
       "   TotalWages  \n",
       "0         NaN  \n",
       "1         NaN  \n",
       "2         NaN  \n",
       "3         NaN  \n",
       "4         NaN  "
      ]
     },
     "execution_count": 3,
     "metadata": {},
     "output_type": "execute_result"
    }
   ],
   "source": [
    "zipcodes=pd.read_csv('free-zipcode-database-Primary.csv')\n",
    "zipcodes.head()"
   ]
  },
  {
   "cell_type": "code",
   "execution_count": 4,
   "metadata": {},
   "outputs": [],
   "source": [
    "gazipcodes= zipcodes[zipcodes.State.isin(StateSelected)]"
   ]
  },
  {
   "cell_type": "code",
   "execution_count": 5,
   "metadata": {},
   "outputs": [
    {
     "data": {
      "text/plain": [
       "973"
      ]
     },
     "execution_count": 5,
     "metadata": {},
     "output_type": "execute_result"
    }
   ],
   "source": [
    "gazipcodes=gazipcodes\n",
    "len(gazipcodes)"
   ]
  },
  {
   "cell_type": "markdown",
   "metadata": {},
   "source": [
    "## Perform API Calls"
   ]
  },
  {
   "cell_type": "code",
   "execution_count": 6,
   "metadata": {},
   "outputs": [],
   "source": [
    "\n",
    "#conn = http.client.HTTPSConnection(\"search.onboard-apis.com\") \n",
    "\n",
    "params = { \n",
    "    'accept': \"application/json\", \n",
    "    'apikey': \"9d078487e223b1c4d54c3f3a3f628803\", \n",
    "} "
   ]
  },
  {
   "cell_type": "code",
   "execution_count": null,
   "metadata": {},
   "outputs": [
    {
     "name": "stdout",
     "output_type": "stream",
     "text": [
      "Missing field/result... skipping.\n",
      "Missing field/result... skipping.\n",
      "Missing field/result... skipping.\n",
      "Missing field/result... skipping.\n",
      "Missing field/result... skipping.\n",
      "Missing field/result... skipping.\n",
      "Missing field/result... skipping.\n",
      "Missing field/result... skipping.\n",
      "Missing field/result... skipping.\n",
      "Missing field/result... skipping.\n",
      "Missing field/result... skipping.\n",
      "Missing field/result... skipping.\n",
      "Missing field/result... skipping.\n",
      "Missing field/result... skipping.\n",
      "Missing field/result... skipping.\n",
      "Missing field/result... skipping.\n",
      "Missing field/result... skipping.\n",
      "Missing field/result... skipping.\n",
      "Missing field/result... skipping.\n",
      "Missing field/result... skipping.\n",
      "Missing field/result... skipping.\n",
      "Missing field/result... skipping.\n",
      "Missing field/result... skipping.\n",
      "Missing field/result... skipping.\n",
      "Missing field/result... skipping.\n",
      "Missing field/result... skipping.\n",
      "Missing field/result... skipping.\n",
      "Missing field/result... skipping.\n",
      "Missing field/result... skipping.\n",
      "Missing field/result... skipping.\n",
      "Missing field/result... skipping.\n",
      "Missing field/result... skipping.\n",
      "Missing field/result... skipping.\n",
      "Missing field/result... skipping.\n",
      "Missing field/result... skipping.\n",
      "Missing field/result... skipping.\n",
      "Missing field/result... skipping.\n",
      "Missing field/result... skipping.\n",
      "Missing field/result... skipping.\n",
      "Missing field/result... skipping.\n",
      "Missing field/result... skipping.\n",
      "Missing field/result... skipping.\n",
      "Missing field/result... skipping.\n",
      "Missing field/result... skipping.\n",
      "Missing field/result... skipping.\n",
      "Missing field/result... skipping.\n",
      "Missing field/result... skipping.\n",
      "Missing field/result... skipping.\n",
      "Missing field/result... skipping.\n",
      "Missing field/result... skipping.\n",
      "Missing field/result... skipping.\n",
      "Missing field/result... skipping.\n"
     ]
    }
   ],
   "source": [
    "FullAddress=[]\n",
    "Street=[]\n",
    "CityStateZip=[]\n",
    "Latitude=[]\n",
    "Longitude=[]\n",
    "pd.Series(FullAddress)\n",
    "pd.Series(Latitude)\n",
    "pd.Series(Longitude)\n",
    "Data_set=pd.DataFrame({'FullAddress':pd.Series(FullAddress),'Street':pd.Series(Street),'CityStateZip':pd.Series(CityStateZip),'Latitude':pd.Series(Latitude),'Longitude':pd.Series(Longitude)})\n",
    "url=f\"https://search.onboard-apis.com/propertyapi/v1.0.0/property/address?postalcode=postalcode&page=1&pagesize=100\"\n",
    "for index, row in gazipcodes.iterrows():\n",
    "    postalcode=row['Zipcode']\n",
    "    url=f\"https://search.onboard-apis.com/propertyapi/v1.0.0/property/address?postalcode={postalcode}&page=1&pagesize=1000\"\n",
    "    res = requests.get(url,headers=params)\n",
    "    data =json.loads(res.text)\n",
    "    we=data\n",
    "    try:\n",
    "        d=pd.DataFrame(data['property'])\n",
    "        d['FullAddress']=d['address'].apply(lambda a:a['oneLine'])\n",
    "        d['Street']=d['address'].apply(lambda d:d['line1'])\n",
    "        d['CityStateZip']=d['address'].apply(lambda d:d['line2'])\n",
    "        d['Latitude']=d['location'].apply(lambda c:c['latitude'])\n",
    "        d['Longitude']=d['location'].apply(lambda b:b['longitude'])\n",
    "        datatoappend=d[['FullAddress','Street','CityStateZip','Latitude','Longitude']]\n",
    "        Data_set=Data_set.append(datatoappend)\n",
    "        \n",
    "    \n",
    "            \n",
    "    except (KeyError, IndexError):\n",
    "        print(\"Missing field/result... skipping.\")\n",
    "    \n"
   ]
  },
  {
   "cell_type": "code",
   "execution_count": null,
   "metadata": {
    "scrolled": true
   },
   "outputs": [],
   "source": [
    "Data_set.head()"
   ]
  },
  {
   "cell_type": "code",
   "execution_count": null,
   "metadata": {},
   "outputs": [],
   "source": [
    "Data_set['Zilliw format add']=Data_set['Street'].replace(\" \", \"+\",regex=True)\n",
    "Data_set['Zilliw format Zipciy']=Data_set['CityStateZip'].replace(\" \", \"+\",regex=True)\n"
   ]
  },
  {
   "cell_type": "code",
   "execution_count": null,
   "metadata": {
    "scrolled": false
   },
   "outputs": [],
   "source": [
    "Data_set['Zestimate']=\" \"\n",
    "Data_set['LastSoldPrice']=\" \"\n",
    "Data_set['Year Built']=\" \"\n",
    "Data_set['totalRooms']=\" \"\n",
    "Data_set['finishedSqFt']=\" \"\n",
    "Data_set['useCode']=\" \"\n",
    "Data_set['zpid']=\" \"\n",
    "Data_set.head()"
   ]
  },
  {
   "cell_type": "code",
   "execution_count": null,
   "metadata": {},
   "outputs": [],
   "source": [
    "#Next is to feed the addresess to zillow api\n",
    "# OpenWeatherMap API Key\n",
    "zid = 'X1-ZWz18cayvld3pn_8gte4'\n",
    "#api_key = api_keys.api_key\n",
    "\n",
    "# Starting URL for Weather Map API Call\n",
    "#url = \"http://api.openweathermap.org/data/2.5/weather?units=Imperial&APPID=\" + api_key \n",
    "\n",
    "#url = f\"http://www.zillow.com/webservice/GetDeepSearchResults.htm?zws-id={api_key}&address=109 TAYLOR BRIDGE RD SW&citystatezip=CALHOUN GA 30701\"  \n",
    "#url = f\"http://www.zillow.com/webservice/GetDeepSearchResults.htm?zws-id={api_key}&address=5888+Colonnade+Drive&citystatezip=Rex,+GA+30273\"  \n"
   ]
  },
  {
   "cell_type": "code",
   "execution_count": null,
   "metadata": {},
   "outputs": [],
   "source": [
    "# response =requests.get(url)\n",
    "\n",
    "# w=response.content\n",
    "             \n",
    "\n"
   ]
  },
  {
   "cell_type": "code",
   "execution_count": null,
   "metadata": {},
   "outputs": [],
   "source": [
    "\n",
    "#url = f\"http://www.zillow.com/webservice/GetDeepSearchResults.htm?zws-id={api_key}&address=5888+Colonnade+Drive&citystatezip=Rex,+GA+30273\"\n",
    "url2 = f\"http://www.zillow.com/webservice/GetDeepSearchResults.htm?zws-id={zid}&address={params2}\"\n",
    "w=[]\n",
    "for index, row in Data_set.iterrows():\n",
    "    # get city, lat, lng from df\n",
    "    # change location each iteration \n",
    "    add=row['Zilliw format add']\n",
    "    statezip=row['Zilliw format Zipciy']\n",
    "    \n",
    "    # Use the search term: \"International Airport\" and our lat/lng\n",
    "    params2=f'{add}&citystatezip={statezip}'\n",
    "    url2 = f\"http://www.zillow.com/webservice/GetDeepSearchResults.htm?zws-id={zid}&address={params2}\"\n",
    "\n",
    "    # make request and print url\n",
    "    response2 = requests.get(url2, params=params2)\n",
    "    we       = response2.content\n",
    "    w.append(we)\n",
    "    we=[]\n",
    "    time.sleep(2)\n",
    "#     tree=ET.fromstring(we)\n",
    "#     results=tree.findall('./response/results/result')\n",
    "#     re=results[0]\n",
    "#     dic=xmltodict.parse(ET.tostring(re))\n",
    "#     #price=dic['result']['lastSoldPrice']\n",
    "#     zestimate=dic['result']['zestimate']['amount']['#text']\n",
    "#     rooms=dic['result']['totalRooms']\n",
    "#     sq=dic['result']['finishedSqFt']\n",
    "#     year=dic['result']['yearBuilt']\n",
    "#     type=dic['result']['useCode']\n",
    "#     id=dic['result']['zpid']\n",
    "    \n",
    "#     try:    \n",
    "            \n",
    "#             #Data_set.loc[index, \"LastSoldPrice\"] =  price\n",
    "#             Data_set.loc[index, \"Zestimate\"] =zestimate\n",
    "#             Data_set.loc[index, \"Year Built\"] =  year\n",
    "#             Data_set.loc[index, \"useCode\"] =type\n",
    "#             Data_set.loc[index, \"totalRooms\"] =rooms\n",
    "#             print(f'found data upating table')\n",
    "#     except (KeyError, IndexError):\n",
    "#         print(\"Missing field/result... skipping.\")\n",
    "\n",
    "\n"
   ]
  },
  {
   "cell_type": "code",
   "execution_count": null,
   "metadata": {},
   "outputs": [],
   "source": [
    "w[2]"
   ]
  },
  {
   "cell_type": "code",
   "execution_count": null,
   "metadata": {
    "scrolled": true
   },
   "outputs": [],
   "source": [
    "tree=ET.fromstring(w[2])\n",
    "tree"
   ]
  },
  {
   "cell_type": "code",
   "execution_count": null,
   "metadata": {},
   "outputs": [],
   "source": [
    "results=tree.findall('./response/results/result')\n",
    "results"
   ]
  },
  {
   "cell_type": "code",
   "execution_count": null,
   "metadata": {},
   "outputs": [],
   "source": [
    "re=results[0]\n",
    "dic=xmltodict.parse(ET.tostring(re))\n",
    "#df=pd.DataFrame(dic['results'])\n",
    "#zillow_data=pd.DataFrame(dic['result'])\n",
    "#zipd=f'{zillow_data.iloc[0,0]}'\n",
    "#zillow_data.iloc[0,-1]['#text']\n",
    "#zestimate_dic=zillow_data.iloc[0,-2]\n",
    "#zestimate=next(itertools.islice(zestimate_dic.values(), 1, 2)) \n",
    "\n",
    "dic"
   ]
  },
  {
   "cell_type": "code",
   "execution_count": null,
   "metadata": {},
   "outputs": [],
   "source": [
    "zpid=[]\n",
    "zest=[]\n",
    "add=[]\n",
    "city=[]\n",
    "zipC=[]\n",
    "lat=[]\n",
    "lon=[]\n",
    "type=[]\n",
    "rooms=[]\n",
    "sqft=[]\n",
    "state=[]\n",
    "lastsoldprice=[]\n",
    "for i,k in enumerate(w):\n",
    "    tree=ET.fromstring(w[i])\n",
    "    results=tree.findall('./response/results/result')\n",
    "    if len(results)!=0:\n",
    "     re=results[0] \n",
    "     dic=xmltodict.parse(ET.tostring(re))\n",
    "    try:\n",
    "         Zid=dic['result'].get('zpid',\"none\")\n",
    "         zestimate=dic['result']['zestimate']['amount'].get('#text',\"none\")\n",
    "         st=dic['result']['address'].get('street','none')\n",
    "         zip=dic['result']['address'].get('zipcode','none')\n",
    "         price=dic['result'].get('lastSoldPrice',\"none\")\n",
    "         room=dic['result'].get('totalRooms','None')\n",
    "         usecode=dic['result'].get('useCode',\"none\")\n",
    "         sqftt=dic['result'].get('finishedSqFt','None')\n",
    "#     sq=dic['result']['finishedSqFt']\n",
    "#     year=dic['result']['yearBuilt']\n",
    "        \n",
    "         zest.append(zestimate)\n",
    "         zpid.append(Zid)\n",
    "         add.append(st)\n",
    "         zipC.append(zip)\n",
    "         lastsoldprice.append(price)\n",
    "         rooms.append(room)\n",
    "         type.append(usecode)\n",
    "         sqft.append(sqftt)\n",
    "         zestimate=[]\n",
    "         Zid=[]\n",
    "         price=[]\n",
    "         room=[]\n",
    "         usecode=[]\n",
    "         sqftt=[]\n",
    "        \n",
    "            \n",
    "    except (KeyError, IndexError):\n",
    "        print(i,zestimate)\n",
    "        \n",
    "   "
   ]
  },
  {
   "cell_type": "code",
   "execution_count": null,
   "metadata": {},
   "outputs": [],
   "source": [
    "zpid,zest,add,zipC,lastsoldprice,rooms,type,sqft"
   ]
  },
  {
   "cell_type": "code",
   "execution_count": null,
   "metadata": {},
   "outputs": [],
   "source": [
    "Zid"
   ]
  },
  {
   "cell_type": "code",
   "execution_count": null,
   "metadata": {},
   "outputs": [],
   "source": []
  },
  {
   "cell_type": "code",
   "execution_count": null,
   "metadata": {},
   "outputs": [],
   "source": [
    "plt.suptitle(f'Latitude Vrs Tem {time.ctime()}')\n",
    "plt.scatter(city_data['Latitude'],city_data['Temperature'],alpha=0.85,c='blue',edgecolor = 'black', label = 'Temp')\n",
    "plt.xlabel('Latitude')\n",
    "plt.ylabel('Temperature')\n",
    "plt.text(43,40,\" Latitude.\")\n",
    "plt.legend()\n",
    "plt.grid()\n",
    "plt.show()\n",
    "\n",
    "plt.savefig('Temp.png')"
   ]
  },
  {
   "cell_type": "code",
   "execution_count": null,
   "metadata": {},
   "outputs": [],
   "source": []
  },
  {
   "cell_type": "code",
   "execution_count": null,
   "metadata": {},
   "outputs": [],
   "source": [
    "plt.suptitle(f'Latitude Vrs Humidity {time.ctime()}')\n",
    "plt.scatter(city_data['Latitude'],city_data['Humidity'],alpha=0.85,c='blue',edgecolor = 'black', label = 'Humidity')\n",
    "plt.xlabel('Latitude')\n",
    "plt.ylabel('Humidity')\n",
    "plt.text(43,90,\" Latitude.\")\n",
    "plt.ylim(-1,110)\n",
    "plt.legend()\n",
    "plt.grid()\n",
    "plt.show()\n",
    "\n",
    "plt.savefig('Humidity.png')"
   ]
  },
  {
   "cell_type": "code",
   "execution_count": null,
   "metadata": {},
   "outputs": [],
   "source": [
    "plt.suptitle(f'Latitude Vrs Cloudiness {time.ctime()}')\n",
    "plt.scatter(city_data['Latitude'],city_data['Cloudiness'],alpha=0.85,c='blue',edgecolor = 'black', label = 'Cloudiness')\n",
    "plt.xlabel('Latitude')\n",
    "plt.ylabel('Cloudiness)')\n",
    "plt.text(43,40,\" Latitude.\")\n",
    "plt.legend()\n",
    "plt.grid()\n",
    "plt.show()\n",
    "\n",
    "plt.savefig('Cloudiness.png')"
   ]
  },
  {
   "cell_type": "code",
   "execution_count": null,
   "metadata": {},
   "outputs": [],
   "source": [
    "plt.suptitle(f'Latitude Vrs WindSpeed {time.ctime()}')\n",
    "plt.scatter(city_data['Latitude'],city_data['WindSpeed'],alpha=0.85,c='blue',edgecolor = 'black', label = 'WindSpeedp')\n",
    "plt.xlabel('Latitude')\n",
    "plt.ylabel('WindSpeed)')\n",
    "plt.text(43,40,\" Latitude.\")\n",
    "plt.legend()\n",
    "plt.grid()\n",
    "plt.show()\n",
    "\n",
    "plt.savefig('WindSpeed.png')"
   ]
  }
 ],
 "metadata": {
  "anaconda-cloud": {},
  "kernelspec": {
   "display_name": "Python [default]",
   "language": "python",
   "name": "python3"
  },
  "language_info": {
   "codemirror_mode": {
    "name": "ipython",
    "version": 3
   },
   "file_extension": ".py",
   "mimetype": "text/x-python",
   "name": "python",
   "nbconvert_exporter": "python",
   "pygments_lexer": "ipython3",
   "version": "3.6.5"
  }
 },
 "nbformat": 4,
 "nbformat_minor": 1
}
