{
 "cells": [
  {
   "cell_type": "code",
   "execution_count": 1,
   "metadata": {
    "scrolled": true
   },
   "outputs": [],
   "source": [
    "# Dependencies and Setup\n",
    "%matplotlib inline\n",
    "import matplotlib.pyplot as plt\n",
    "import pandas as pd\n",
    "import numpy as np\n",
    "import requests\n",
    "import time\n",
    "import json\n",
    "import re\n",
    "import xml.etree.ElementTree as ET\n",
    "import xmltodict\n",
    "import collections\n",
    "import itertools\n",
    "from ratelimit import limits, sleep_and_retry\n",
    "from config import api_key"
   ]
  },
  {
   "cell_type": "code",
   "execution_count": 2,
   "metadata": {},
   "outputs": [],
   "source": [
    "StateSelected = ['GA']"
   ]
  },
  {
   "cell_type": "code",
   "execution_count": 3,
   "metadata": {},
   "outputs": [
    {
     "data": {
      "text/html": [
       "<div>\n",
       "<style scoped>\n",
       "    .dataframe tbody tr th:only-of-type {\n",
       "        vertical-align: middle;\n",
       "    }\n",
       "\n",
       "    .dataframe tbody tr th {\n",
       "        vertical-align: top;\n",
       "    }\n",
       "\n",
       "    .dataframe thead th {\n",
       "        text-align: right;\n",
       "    }\n",
       "</style>\n",
       "<table border=\"1\" class=\"dataframe\">\n",
       "  <thead>\n",
       "    <tr style=\"text-align: right;\">\n",
       "      <th></th>\n",
       "      <th>Zipcode</th>\n",
       "      <th>ZipCodeType</th>\n",
       "      <th>City</th>\n",
       "      <th>State</th>\n",
       "      <th>LocationType</th>\n",
       "      <th>Lat</th>\n",
       "      <th>Long</th>\n",
       "      <th>Location</th>\n",
       "      <th>Decommisioned</th>\n",
       "      <th>TaxReturnsFiled</th>\n",
       "      <th>EstimatedPopulation</th>\n",
       "      <th>TotalWages</th>\n",
       "    </tr>\n",
       "  </thead>\n",
       "  <tbody>\n",
       "    <tr>\n",
       "      <th>0</th>\n",
       "      <td>705</td>\n",
       "      <td>STANDARD</td>\n",
       "      <td>AIBONITO</td>\n",
       "      <td>PR</td>\n",
       "      <td>PRIMARY</td>\n",
       "      <td>18.14</td>\n",
       "      <td>-66.26</td>\n",
       "      <td>NA-US-PR-AIBONITO</td>\n",
       "      <td>False</td>\n",
       "      <td>NaN</td>\n",
       "      <td>NaN</td>\n",
       "      <td>NaN</td>\n",
       "    </tr>\n",
       "    <tr>\n",
       "      <th>1</th>\n",
       "      <td>610</td>\n",
       "      <td>STANDARD</td>\n",
       "      <td>ANASCO</td>\n",
       "      <td>PR</td>\n",
       "      <td>PRIMARY</td>\n",
       "      <td>18.28</td>\n",
       "      <td>-67.14</td>\n",
       "      <td>NA-US-PR-ANASCO</td>\n",
       "      <td>False</td>\n",
       "      <td>NaN</td>\n",
       "      <td>NaN</td>\n",
       "      <td>NaN</td>\n",
       "    </tr>\n",
       "    <tr>\n",
       "      <th>2</th>\n",
       "      <td>611</td>\n",
       "      <td>PO BOX</td>\n",
       "      <td>ANGELES</td>\n",
       "      <td>PR</td>\n",
       "      <td>PRIMARY</td>\n",
       "      <td>18.28</td>\n",
       "      <td>-66.79</td>\n",
       "      <td>NA-US-PR-ANGELES</td>\n",
       "      <td>False</td>\n",
       "      <td>NaN</td>\n",
       "      <td>NaN</td>\n",
       "      <td>NaN</td>\n",
       "    </tr>\n",
       "    <tr>\n",
       "      <th>3</th>\n",
       "      <td>612</td>\n",
       "      <td>STANDARD</td>\n",
       "      <td>ARECIBO</td>\n",
       "      <td>PR</td>\n",
       "      <td>PRIMARY</td>\n",
       "      <td>18.45</td>\n",
       "      <td>-66.73</td>\n",
       "      <td>NA-US-PR-ARECIBO</td>\n",
       "      <td>False</td>\n",
       "      <td>NaN</td>\n",
       "      <td>NaN</td>\n",
       "      <td>NaN</td>\n",
       "    </tr>\n",
       "    <tr>\n",
       "      <th>4</th>\n",
       "      <td>601</td>\n",
       "      <td>STANDARD</td>\n",
       "      <td>ADJUNTAS</td>\n",
       "      <td>PR</td>\n",
       "      <td>PRIMARY</td>\n",
       "      <td>18.16</td>\n",
       "      <td>-66.72</td>\n",
       "      <td>NA-US-PR-ADJUNTAS</td>\n",
       "      <td>False</td>\n",
       "      <td>NaN</td>\n",
       "      <td>NaN</td>\n",
       "      <td>NaN</td>\n",
       "    </tr>\n",
       "  </tbody>\n",
       "</table>\n",
       "</div>"
      ],
      "text/plain": [
       "   Zipcode ZipCodeType      City State LocationType    Lat   Long  \\\n",
       "0      705    STANDARD  AIBONITO    PR      PRIMARY  18.14 -66.26   \n",
       "1      610    STANDARD    ANASCO    PR      PRIMARY  18.28 -67.14   \n",
       "2      611      PO BOX   ANGELES    PR      PRIMARY  18.28 -66.79   \n",
       "3      612    STANDARD   ARECIBO    PR      PRIMARY  18.45 -66.73   \n",
       "4      601    STANDARD  ADJUNTAS    PR      PRIMARY  18.16 -66.72   \n",
       "\n",
       "            Location  Decommisioned  TaxReturnsFiled  EstimatedPopulation  \\\n",
       "0  NA-US-PR-AIBONITO          False              NaN                  NaN   \n",
       "1    NA-US-PR-ANASCO          False              NaN                  NaN   \n",
       "2   NA-US-PR-ANGELES          False              NaN                  NaN   \n",
       "3   NA-US-PR-ARECIBO          False              NaN                  NaN   \n",
       "4  NA-US-PR-ADJUNTAS          False              NaN                  NaN   \n",
       "\n",
       "   TotalWages  \n",
       "0         NaN  \n",
       "1         NaN  \n",
       "2         NaN  \n",
       "3         NaN  \n",
       "4         NaN  "
      ]
     },
     "execution_count": 3,
     "metadata": {},
     "output_type": "execute_result"
    }
   ],
   "source": [
    "zipcodes=pd.read_csv('free-zipcode-database-Primary.csv')\n",
    "zipcodes.head()"
   ]
  },
  {
   "cell_type": "code",
   "execution_count": 4,
   "metadata": {},
   "outputs": [],
   "source": [
    "gazipcodes= zipcodes[zipcodes.State.isin(StateSelected)]"
   ]
  },
  {
   "cell_type": "code",
   "execution_count": 5,
   "metadata": {},
   "outputs": [],
   "source": [
    "gazipcodes=gazipcodes.head()"
   ]
  },
  {
   "cell_type": "markdown",
   "metadata": {},
   "source": [
    "## Perform API Calls"
   ]
  },
  {
   "cell_type": "code",
   "execution_count": 6,
   "metadata": {},
   "outputs": [],
   "source": [
    "\n",
    "#conn = http.client.HTTPSConnection(\"search.onboard-apis.com\") \n",
    "\n",
    "params = {'accept': \"application/json\",\n",
    "          'apikey': \"9d078487e223b1c4d54c3f3a3f628803\"} "
   ]
  },
  {
   "cell_type": "code",
   "execution_count": 7,
   "metadata": {},
   "outputs": [],
   "source": [
    "FullAddress=[]\n",
    "Street=[]\n",
    "Latitude=[]\n",
    "Longitude=[]\n",
    "CityStateZip=[]\n",
    "pd.Series(FullAddress)\n",
    "pd.Series(Latitude)\n",
    "pd.Series(Longitude)\n",
    "Data_set=pd.DataFrame({'FullAddress':pd.Series(FullAddress),'Street':pd.Series(Street),'CityStateZip':pd.Series(CityStateZip),'Latitude':pd.Series(Latitude),'Longitude':pd.Series(Longitude)})"
   ]
  },
  {
   "cell_type": "code",
   "execution_count": 8,
   "metadata": {},
   "outputs": [
    {
     "data": {
      "text/html": [
       "<div>\n",
       "<style scoped>\n",
       "    .dataframe tbody tr th:only-of-type {\n",
       "        vertical-align: middle;\n",
       "    }\n",
       "\n",
       "    .dataframe tbody tr th {\n",
       "        vertical-align: top;\n",
       "    }\n",
       "\n",
       "    .dataframe thead th {\n",
       "        text-align: right;\n",
       "    }\n",
       "</style>\n",
       "<table border=\"1\" class=\"dataframe\">\n",
       "  <thead>\n",
       "    <tr style=\"text-align: right;\">\n",
       "      <th></th>\n",
       "      <th>FullAddress</th>\n",
       "      <th>Street</th>\n",
       "      <th>CityStateZip</th>\n",
       "      <th>Latitude</th>\n",
       "      <th>Longitude</th>\n",
       "    </tr>\n",
       "  </thead>\n",
       "  <tbody>\n",
       "  </tbody>\n",
       "</table>\n",
       "</div>"
      ],
      "text/plain": [
       "Empty DataFrame\n",
       "Columns: [FullAddress, Street, CityStateZip, Latitude, Longitude]\n",
       "Index: []"
      ]
     },
     "execution_count": 8,
     "metadata": {},
     "output_type": "execute_result"
    }
   ],
   "source": [
    "Data_set"
   ]
  },
  {
   "cell_type": "code",
   "execution_count": 9,
   "metadata": {},
   "outputs": [],
   "source": [
    "url=f\"https://search.onboard-apis.com/propertyapi/v1.0.0/property/address?postalcode=postalcode&page=1&pagesize=100\"\n",
    "for index, row in gazipcodes.iterrows():\n",
    "    postalcode=row['Zipcode']\n",
    "    url=f\"https://search.onboard-apis.com/propertyapi/v1.0.0/property/address?postalcode={postalcode}&page=1&pagesize=1000\"\n",
    "    res = requests.get(url,headers=params)\n",
    "    data =json.loads(res.text)\n",
    "    we=data\n",
    "    try:\n",
    "        d=pd.DataFrame(data['property'])\n",
    "        d['FullAddress']=d['address'].apply(lambda a:a['oneLine'])\n",
    "        d['Street']=d['address'].apply(lambda d:d['line1'])\n",
    "        d['CityStateZip']=d['address'].apply(lambda d:d['line2'])\n",
    "        d['Latitude']=d['location'].apply(lambda c:c['latitude'])\n",
    "        d['Longitude']=d['location'].apply(lambda b:b['longitude'])\n",
    "        datatoappend=d[['FullAddress','Street','CityStateZip','Latitude','Longitude']]\n",
    "        Data_set=Data_set.append(datatoappend)\n",
    "        \n",
    "    \n",
    "            \n",
    "    except (KeyError, IndexError):\n",
    "        print(\"Missing field/result... skipping.\")\n",
    "    \n"
   ]
  },
  {
   "cell_type": "code",
   "execution_count": 10,
   "metadata": {
    "scrolled": true
   },
   "outputs": [
    {
     "data": {
      "text/html": [
       "<div>\n",
       "<style scoped>\n",
       "    .dataframe tbody tr th:only-of-type {\n",
       "        vertical-align: middle;\n",
       "    }\n",
       "\n",
       "    .dataframe tbody tr th {\n",
       "        vertical-align: top;\n",
       "    }\n",
       "\n",
       "    .dataframe thead th {\n",
       "        text-align: right;\n",
       "    }\n",
       "</style>\n",
       "<table border=\"1\" class=\"dataframe\">\n",
       "  <thead>\n",
       "    <tr style=\"text-align: right;\">\n",
       "      <th></th>\n",
       "      <th>FullAddress</th>\n",
       "      <th>Street</th>\n",
       "      <th>CityStateZip</th>\n",
       "      <th>Latitude</th>\n",
       "      <th>Longitude</th>\n",
       "    </tr>\n",
       "  </thead>\n",
       "  <tbody>\n",
       "    <tr>\n",
       "      <th>0</th>\n",
       "      <td>109 TAYLOR BRIDGE RD SW, CALHOUN, GA 30701</td>\n",
       "      <td>109 TAYLOR BRIDGE RD SW</td>\n",
       "      <td>CALHOUN, GA 30701</td>\n",
       "      <td>34.417930</td>\n",
       "      <td>-84.937120</td>\n",
       "    </tr>\n",
       "    <tr>\n",
       "      <th>1</th>\n",
       "      <td>137 TAYLOR BRIDGE RD SW # A, CALHOUN, GA 30701</td>\n",
       "      <td>137 TAYLOR BRIDGE RD SW # A</td>\n",
       "      <td>CALHOUN, GA 30701</td>\n",
       "      <td>34.418477</td>\n",
       "      <td>-84.937531</td>\n",
       "    </tr>\n",
       "    <tr>\n",
       "      <th>2</th>\n",
       "      <td>137 TAYLOR BRIDGE RD SW, CALHOUN, GA 30701</td>\n",
       "      <td>137 TAYLOR BRIDGE RD SW</td>\n",
       "      <td>CALHOUN, GA 30701</td>\n",
       "      <td>34.418477</td>\n",
       "      <td>-84.937531</td>\n",
       "    </tr>\n",
       "    <tr>\n",
       "      <th>3</th>\n",
       "      <td>314 ROBBINS CREEK TRL SW, CALHOUN, GA 30701</td>\n",
       "      <td>314 ROBBINS CREEK TRL SW</td>\n",
       "      <td>CALHOUN, GA 30701</td>\n",
       "      <td>34.420551</td>\n",
       "      <td>-84.983000</td>\n",
       "    </tr>\n",
       "    <tr>\n",
       "      <th>4</th>\n",
       "      <td>310 ROBBINS CREEK TRL SW, CALHOUN, GA 30701</td>\n",
       "      <td>310 ROBBINS CREEK TRL SW</td>\n",
       "      <td>CALHOUN, GA 30701</td>\n",
       "      <td>34.420560</td>\n",
       "      <td>-84.983002</td>\n",
       "    </tr>\n",
       "  </tbody>\n",
       "</table>\n",
       "</div>"
      ],
      "text/plain": [
       "                                      FullAddress  \\\n",
       "0      109 TAYLOR BRIDGE RD SW, CALHOUN, GA 30701   \n",
       "1  137 TAYLOR BRIDGE RD SW # A, CALHOUN, GA 30701   \n",
       "2      137 TAYLOR BRIDGE RD SW, CALHOUN, GA 30701   \n",
       "3     314 ROBBINS CREEK TRL SW, CALHOUN, GA 30701   \n",
       "4     310 ROBBINS CREEK TRL SW, CALHOUN, GA 30701   \n",
       "\n",
       "                        Street       CityStateZip   Latitude   Longitude  \n",
       "0      109 TAYLOR BRIDGE RD SW  CALHOUN, GA 30701  34.417930  -84.937120  \n",
       "1  137 TAYLOR BRIDGE RD SW # A  CALHOUN, GA 30701  34.418477  -84.937531  \n",
       "2      137 TAYLOR BRIDGE RD SW  CALHOUN, GA 30701  34.418477  -84.937531  \n",
       "3     314 ROBBINS CREEK TRL SW  CALHOUN, GA 30701  34.420551  -84.983000  \n",
       "4     310 ROBBINS CREEK TRL SW  CALHOUN, GA 30701  34.420560  -84.983002  "
      ]
     },
     "execution_count": 10,
     "metadata": {},
     "output_type": "execute_result"
    }
   ],
   "source": [
    "Data_set.head()"
   ]
  },
  {
   "cell_type": "code",
   "execution_count": 11,
   "metadata": {},
   "outputs": [
    {
     "data": {
      "text/html": [
       "<div>\n",
       "<style scoped>\n",
       "    .dataframe tbody tr th:only-of-type {\n",
       "        vertical-align: middle;\n",
       "    }\n",
       "\n",
       "    .dataframe tbody tr th {\n",
       "        vertical-align: top;\n",
       "    }\n",
       "\n",
       "    .dataframe thead th {\n",
       "        text-align: right;\n",
       "    }\n",
       "</style>\n",
       "<table border=\"1\" class=\"dataframe\">\n",
       "  <thead>\n",
       "    <tr style=\"text-align: right;\">\n",
       "      <th></th>\n",
       "      <th>FullAddress</th>\n",
       "      <th>Street</th>\n",
       "      <th>CityStateZip</th>\n",
       "      <th>Latitude</th>\n",
       "      <th>Longitude</th>\n",
       "      <th>Zestimate</th>\n",
       "      <th>LastSoldPrice</th>\n",
       "      <th>Year Built</th>\n",
       "      <th>Nof of Bathrooms</th>\n",
       "      <th>No of Bedrooms</th>\n",
       "    </tr>\n",
       "  </thead>\n",
       "  <tbody>\n",
       "    <tr>\n",
       "      <th>0</th>\n",
       "      <td>109 TAYLOR BRIDGE RD SW, CALHOUN, GA 30701</td>\n",
       "      <td>109 TAYLOR BRIDGE RD SW</td>\n",
       "      <td>CALHOUN, GA 30701</td>\n",
       "      <td>34.417930</td>\n",
       "      <td>-84.937120</td>\n",
       "      <td></td>\n",
       "      <td></td>\n",
       "      <td></td>\n",
       "      <td></td>\n",
       "      <td></td>\n",
       "    </tr>\n",
       "    <tr>\n",
       "      <th>1</th>\n",
       "      <td>137 TAYLOR BRIDGE RD SW # A, CALHOUN, GA 30701</td>\n",
       "      <td>137 TAYLOR BRIDGE RD SW # A</td>\n",
       "      <td>CALHOUN, GA 30701</td>\n",
       "      <td>34.418477</td>\n",
       "      <td>-84.937531</td>\n",
       "      <td></td>\n",
       "      <td></td>\n",
       "      <td></td>\n",
       "      <td></td>\n",
       "      <td></td>\n",
       "    </tr>\n",
       "    <tr>\n",
       "      <th>2</th>\n",
       "      <td>137 TAYLOR BRIDGE RD SW, CALHOUN, GA 30701</td>\n",
       "      <td>137 TAYLOR BRIDGE RD SW</td>\n",
       "      <td>CALHOUN, GA 30701</td>\n",
       "      <td>34.418477</td>\n",
       "      <td>-84.937531</td>\n",
       "      <td></td>\n",
       "      <td></td>\n",
       "      <td></td>\n",
       "      <td></td>\n",
       "      <td></td>\n",
       "    </tr>\n",
       "    <tr>\n",
       "      <th>3</th>\n",
       "      <td>314 ROBBINS CREEK TRL SW, CALHOUN, GA 30701</td>\n",
       "      <td>314 ROBBINS CREEK TRL SW</td>\n",
       "      <td>CALHOUN, GA 30701</td>\n",
       "      <td>34.420551</td>\n",
       "      <td>-84.983000</td>\n",
       "      <td></td>\n",
       "      <td></td>\n",
       "      <td></td>\n",
       "      <td></td>\n",
       "      <td></td>\n",
       "    </tr>\n",
       "    <tr>\n",
       "      <th>4</th>\n",
       "      <td>310 ROBBINS CREEK TRL SW, CALHOUN, GA 30701</td>\n",
       "      <td>310 ROBBINS CREEK TRL SW</td>\n",
       "      <td>CALHOUN, GA 30701</td>\n",
       "      <td>34.420560</td>\n",
       "      <td>-84.983002</td>\n",
       "      <td></td>\n",
       "      <td></td>\n",
       "      <td></td>\n",
       "      <td></td>\n",
       "      <td></td>\n",
       "    </tr>\n",
       "  </tbody>\n",
       "</table>\n",
       "</div>"
      ],
      "text/plain": [
       "                                      FullAddress  \\\n",
       "0      109 TAYLOR BRIDGE RD SW, CALHOUN, GA 30701   \n",
       "1  137 TAYLOR BRIDGE RD SW # A, CALHOUN, GA 30701   \n",
       "2      137 TAYLOR BRIDGE RD SW, CALHOUN, GA 30701   \n",
       "3     314 ROBBINS CREEK TRL SW, CALHOUN, GA 30701   \n",
       "4     310 ROBBINS CREEK TRL SW, CALHOUN, GA 30701   \n",
       "\n",
       "                        Street       CityStateZip   Latitude   Longitude  \\\n",
       "0      109 TAYLOR BRIDGE RD SW  CALHOUN, GA 30701  34.417930  -84.937120   \n",
       "1  137 TAYLOR BRIDGE RD SW # A  CALHOUN, GA 30701  34.418477  -84.937531   \n",
       "2      137 TAYLOR BRIDGE RD SW  CALHOUN, GA 30701  34.418477  -84.937531   \n",
       "3     314 ROBBINS CREEK TRL SW  CALHOUN, GA 30701  34.420551  -84.983000   \n",
       "4     310 ROBBINS CREEK TRL SW  CALHOUN, GA 30701  34.420560  -84.983002   \n",
       "\n",
       "  Zestimate LastSoldPrice Year Built Nof of Bathrooms No of Bedrooms  \n",
       "0                                                                     \n",
       "1                                                                     \n",
       "2                                                                     \n",
       "3                                                                     \n",
       "4                                                                     "
      ]
     },
     "execution_count": 11,
     "metadata": {},
     "output_type": "execute_result"
    }
   ],
   "source": [
    "Data_set['Zestimate']=\" \"\n",
    "Data_set['LastSoldPrice']=\" \"\n",
    "Data_set['Year Built']=\" \"\n",
    "Data_set['Nof of Bathrooms']=\" \"\n",
    "Data_set['No of Bedrooms']=\" \"\n",
    "Data_set.head()"
   ]
  },
  {
   "cell_type": "code",
   "execution_count": 12,
   "metadata": {},
   "outputs": [
    {
     "data": {
      "text/html": [
       "<div>\n",
       "<style scoped>\n",
       "    .dataframe tbody tr th:only-of-type {\n",
       "        vertical-align: middle;\n",
       "    }\n",
       "\n",
       "    .dataframe tbody tr th {\n",
       "        vertical-align: top;\n",
       "    }\n",
       "\n",
       "    .dataframe thead th {\n",
       "        text-align: right;\n",
       "    }\n",
       "</style>\n",
       "<table border=\"1\" class=\"dataframe\">\n",
       "  <thead>\n",
       "    <tr style=\"text-align: right;\">\n",
       "      <th></th>\n",
       "      <th>FullAddress</th>\n",
       "      <th>Street</th>\n",
       "      <th>CityStateZip</th>\n",
       "      <th>Latitude</th>\n",
       "      <th>Longitude</th>\n",
       "      <th>Zestimate</th>\n",
       "      <th>LastSoldPrice</th>\n",
       "      <th>Year Built</th>\n",
       "      <th>Nof of Bathrooms</th>\n",
       "      <th>No of Bedrooms</th>\n",
       "      <th>Zilliw format add</th>\n",
       "      <th>Zilliw format Zipcity</th>\n",
       "    </tr>\n",
       "  </thead>\n",
       "  <tbody>\n",
       "    <tr>\n",
       "      <th>0</th>\n",
       "      <td>109 TAYLOR BRIDGE RD SW, CALHOUN, GA 30701</td>\n",
       "      <td>109 TAYLOR BRIDGE RD SW</td>\n",
       "      <td>CALHOUN, GA 30701</td>\n",
       "      <td>34.417930</td>\n",
       "      <td>-84.937120</td>\n",
       "      <td></td>\n",
       "      <td></td>\n",
       "      <td></td>\n",
       "      <td></td>\n",
       "      <td></td>\n",
       "      <td>109+TAYLOR+BRIDGE+RD+SW</td>\n",
       "      <td>CALHOUN,+GA+30701</td>\n",
       "    </tr>\n",
       "    <tr>\n",
       "      <th>1</th>\n",
       "      <td>137 TAYLOR BRIDGE RD SW # A, CALHOUN, GA 30701</td>\n",
       "      <td>137 TAYLOR BRIDGE RD SW # A</td>\n",
       "      <td>CALHOUN, GA 30701</td>\n",
       "      <td>34.418477</td>\n",
       "      <td>-84.937531</td>\n",
       "      <td></td>\n",
       "      <td></td>\n",
       "      <td></td>\n",
       "      <td></td>\n",
       "      <td></td>\n",
       "      <td>137+TAYLOR+BRIDGE+RD+SW+#+A</td>\n",
       "      <td>CALHOUN,+GA+30701</td>\n",
       "    </tr>\n",
       "    <tr>\n",
       "      <th>2</th>\n",
       "      <td>137 TAYLOR BRIDGE RD SW, CALHOUN, GA 30701</td>\n",
       "      <td>137 TAYLOR BRIDGE RD SW</td>\n",
       "      <td>CALHOUN, GA 30701</td>\n",
       "      <td>34.418477</td>\n",
       "      <td>-84.937531</td>\n",
       "      <td></td>\n",
       "      <td></td>\n",
       "      <td></td>\n",
       "      <td></td>\n",
       "      <td></td>\n",
       "      <td>137+TAYLOR+BRIDGE+RD+SW</td>\n",
       "      <td>CALHOUN,+GA+30701</td>\n",
       "    </tr>\n",
       "    <tr>\n",
       "      <th>3</th>\n",
       "      <td>314 ROBBINS CREEK TRL SW, CALHOUN, GA 30701</td>\n",
       "      <td>314 ROBBINS CREEK TRL SW</td>\n",
       "      <td>CALHOUN, GA 30701</td>\n",
       "      <td>34.420551</td>\n",
       "      <td>-84.983000</td>\n",
       "      <td></td>\n",
       "      <td></td>\n",
       "      <td></td>\n",
       "      <td></td>\n",
       "      <td></td>\n",
       "      <td>314+ROBBINS+CREEK+TRL+SW</td>\n",
       "      <td>CALHOUN,+GA+30701</td>\n",
       "    </tr>\n",
       "    <tr>\n",
       "      <th>4</th>\n",
       "      <td>310 ROBBINS CREEK TRL SW, CALHOUN, GA 30701</td>\n",
       "      <td>310 ROBBINS CREEK TRL SW</td>\n",
       "      <td>CALHOUN, GA 30701</td>\n",
       "      <td>34.420560</td>\n",
       "      <td>-84.983002</td>\n",
       "      <td></td>\n",
       "      <td></td>\n",
       "      <td></td>\n",
       "      <td></td>\n",
       "      <td></td>\n",
       "      <td>310+ROBBINS+CREEK+TRL+SW</td>\n",
       "      <td>CALHOUN,+GA+30701</td>\n",
       "    </tr>\n",
       "  </tbody>\n",
       "</table>\n",
       "</div>"
      ],
      "text/plain": [
       "                                      FullAddress  \\\n",
       "0      109 TAYLOR BRIDGE RD SW, CALHOUN, GA 30701   \n",
       "1  137 TAYLOR BRIDGE RD SW # A, CALHOUN, GA 30701   \n",
       "2      137 TAYLOR BRIDGE RD SW, CALHOUN, GA 30701   \n",
       "3     314 ROBBINS CREEK TRL SW, CALHOUN, GA 30701   \n",
       "4     310 ROBBINS CREEK TRL SW, CALHOUN, GA 30701   \n",
       "\n",
       "                        Street       CityStateZip   Latitude   Longitude  \\\n",
       "0      109 TAYLOR BRIDGE RD SW  CALHOUN, GA 30701  34.417930  -84.937120   \n",
       "1  137 TAYLOR BRIDGE RD SW # A  CALHOUN, GA 30701  34.418477  -84.937531   \n",
       "2      137 TAYLOR BRIDGE RD SW  CALHOUN, GA 30701  34.418477  -84.937531   \n",
       "3     314 ROBBINS CREEK TRL SW  CALHOUN, GA 30701  34.420551  -84.983000   \n",
       "4     310 ROBBINS CREEK TRL SW  CALHOUN, GA 30701  34.420560  -84.983002   \n",
       "\n",
       "  Zestimate LastSoldPrice Year Built Nof of Bathrooms No of Bedrooms  \\\n",
       "0                                                                      \n",
       "1                                                                      \n",
       "2                                                                      \n",
       "3                                                                      \n",
       "4                                                                      \n",
       "\n",
       "             Zilliw format add Zilliw format Zipcity  \n",
       "0      109+TAYLOR+BRIDGE+RD+SW     CALHOUN,+GA+30701  \n",
       "1  137+TAYLOR+BRIDGE+RD+SW+#+A     CALHOUN,+GA+30701  \n",
       "2      137+TAYLOR+BRIDGE+RD+SW     CALHOUN,+GA+30701  \n",
       "3     314+ROBBINS+CREEK+TRL+SW     CALHOUN,+GA+30701  \n",
       "4     310+ROBBINS+CREEK+TRL+SW     CALHOUN,+GA+30701  "
      ]
     },
     "execution_count": 12,
     "metadata": {},
     "output_type": "execute_result"
    }
   ],
   "source": [
    "Data_set['Zilliw format add']=Data_set['Street'].replace(\" \", \"+\",regex=True)\n",
    "Data_set['Zilliw format Zipcity']=Data_set['CityStateZip'].replace(\" \", \"+\",regex=True)\n",
    "Data_set.head()"
   ]
  },
  {
   "cell_type": "code",
   "execution_count": 13,
   "metadata": {},
   "outputs": [],
   "source": [
    "\n",
    "# OpenWeatherMap API Key\n",
    "\n",
    "#api_key = api_keys.api_key\n",
    "\n",
    "# Starting URL for Weather Map API Call\n",
    "#url = \"http://api.openweathermap.org/data/2.5/weather?units=Imperial&APPID=\" + api_key \n",
    "\n",
    "#url = f\"http://www.zillow.com/webservice/GetDeepSearchResults.htm?zws-id={api_key}&address=109 TAYLOR BRIDGE RD SW&citystatezip=CALHOUN GA 30701\"  \n",
    "#url = f\"http://www.zillow.com/webservice/GetDeepSearchResults.htm?zws-id={api_key}&address=5888+Colonnade+Drive&citystatezip=Rex,+GA+30273\"  \n"
   ]
  },
  {
   "cell_type": "code",
   "execution_count": 24,
   "metadata": {},
   "outputs": [
    {
     "name": "stdout",
     "output_type": "stream",
     "text": [
      "109+TAYLOR+BRIDGE+RD+SW&citystatezip=CALHOUN,+GA+30701\n",
      "137+TAYLOR+BRIDGE+RD+SW+#+A&citystatezip=CALHOUN,+GA+30701\n",
      "137+TAYLOR+BRIDGE+RD+SW&citystatezip=CALHOUN,+GA+30701\n",
      "314+ROBBINS+CREEK+TRL+SW&citystatezip=CALHOUN,+GA+30701\n",
      "310+ROBBINS+CREEK+TRL+SW&citystatezip=CALHOUN,+GA+30701\n"
     ]
    }
   ],
   "source": [
    "base_url='http://www.zillow.com/webservice/GetDeepSearchResults.htm?zws-id={api_key}&address='\n",
    "\n",
    "test=Data_set.head()\n",
    "\n",
    "for index, row in test.iterrows():\n",
    "    \n",
    "    add=row['Zilliw format add']\n",
    "    statezip=row['Zilliw format Zipcity']\n",
    "    \n",
    "    \n",
    "    params=f'{add}&citystatezip={statezip}'\n",
    "    \n",
    "   \n",
    "    response2 = requests.get(base_url, params=params)\n",
    "    \n",
    "    xmldoc = response2.text"
   ]
  },
  {
   "cell_type": "code",
   "execution_count": 20,
   "metadata": {},
   "outputs": [
    {
     "data": {
      "text/plain": [
       "'<?xml version=\"1.0\" encoding=\"utf-8\"?><SearchResults:searchresults xsi:schemaLocation=\"http://www.zillow.com/static/xsd/SearchResults.xsd https://www.zillowstatic.com/vstatic/18f7df5/static/xsd/SearchResults.xsd\" xmlns:xsi=\"http://www.w3.org/2001/XMLSchema-instance\" xmlns:SearchResults=\"http://www.zillow.com/static/xsd/SearchResults.xsd\"><request><address></address><citystatezip>CALHOUN, GA 30701</citystatezip></request><message><text>Error: no address specified</text><code>500</code></message></SearchResults:searchresults><!-- H:045  T:7ms  S:150  R:Mon Oct 01 12:48:09 PDT 2018  B:5.0.56469-master.7c8da2e~delivery_ready.08ee7f5 -->'"
      ]
     },
     "execution_count": 20,
     "metadata": {},
     "output_type": "execute_result"
    }
   ],
   "source": [
    "xmldoc"
   ]
  },
  {
   "cell_type": "code",
   "execution_count": 16,
   "metadata": {
    "scrolled": true
   },
   "outputs": [
    {
     "data": {
      "text/plain": [
       "<Element '{http://www.zillow.com/static/xsd/SearchResults.xsd}searchresults' at 0x113a81188>"
      ]
     },
     "execution_count": 16,
     "metadata": {},
     "output_type": "execute_result"
    }
   ],
   "source": [
    "tree=ET.fromstring(xmldoc)\n",
    "tree"
   ]
  },
  {
   "cell_type": "code",
   "execution_count": 17,
   "metadata": {},
   "outputs": [
    {
     "data": {
      "text/plain": [
       "[]"
      ]
     },
     "execution_count": 17,
     "metadata": {},
     "output_type": "execute_result"
    }
   ],
   "source": [
    "results=tree.findall('./response/results/result')\n",
    "results"
   ]
  },
  {
   "cell_type": "code",
   "execution_count": 18,
   "metadata": {},
   "outputs": [
    {
     "ename": "IndexError",
     "evalue": "list index out of range",
     "output_type": "error",
     "traceback": [
      "\u001b[0;31m---------------------------------------------------------------------------\u001b[0m",
      "\u001b[0;31mIndexError\u001b[0m                                Traceback (most recent call last)",
      "\u001b[0;32m<ipython-input-18-754df0452549>\u001b[0m in \u001b[0;36m<module>\u001b[0;34m()\u001b[0m\n\u001b[0;32m----> 1\u001b[0;31m \u001b[0mre\u001b[0m\u001b[0;34m=\u001b[0m\u001b[0mresults\u001b[0m\u001b[0;34m[\u001b[0m\u001b[0;36m0\u001b[0m\u001b[0;34m]\u001b[0m\u001b[0;34m\u001b[0m\u001b[0m\n\u001b[0m\u001b[1;32m      2\u001b[0m \u001b[0mdic\u001b[0m\u001b[0;34m=\u001b[0m\u001b[0mxmltodict\u001b[0m\u001b[0;34m.\u001b[0m\u001b[0mparse\u001b[0m\u001b[0;34m(\u001b[0m\u001b[0mET\u001b[0m\u001b[0;34m.\u001b[0m\u001b[0mtostring\u001b[0m\u001b[0;34m(\u001b[0m\u001b[0mre\u001b[0m\u001b[0;34m)\u001b[0m\u001b[0;34m)\u001b[0m\u001b[0;34m\u001b[0m\u001b[0m\n\u001b[1;32m      3\u001b[0m \u001b[0;31m#df=pd.DataFrame(dic['results'])\u001b[0m\u001b[0;34m\u001b[0m\u001b[0;34m\u001b[0m\u001b[0m\n\u001b[1;32m      4\u001b[0m \u001b[0;31m#zillow_data=pd.DataFrame(dic['result'])\u001b[0m\u001b[0;34m\u001b[0m\u001b[0;34m\u001b[0m\u001b[0m\n\u001b[1;32m      5\u001b[0m \u001b[0;31m#zipd=f'{zillow_data.iloc[0,0]}'\u001b[0m\u001b[0;34m\u001b[0m\u001b[0;34m\u001b[0m\u001b[0m\n",
      "\u001b[0;31mIndexError\u001b[0m: list index out of range"
     ]
    }
   ],
   "source": [
    "re=results[0]\n",
    "dic=xmltodict.parse(ET.tostring(re))\n",
    "#df=pd.DataFrame(dic['results'])\n",
    "#zillow_data=pd.DataFrame(dic['result'])\n",
    "#zipd=f'{zillow_data.iloc[0,0]}'\n",
    "#zillow_data.iloc[0,-1]['#text']\n",
    "#zestimate_dic=zillow_data.iloc[0,-2]\n",
    "#zestimate=next(itertools.islice(zestimate_dic.values(), 1, 2)) \n",
    "dic['result']['lastSoldPrice']\n",
    "dic['result']['zestimate']['amount']\n",
    "dic['result']['totalRooms']"
   ]
  },
  {
   "cell_type": "code",
   "execution_count": null,
   "metadata": {},
   "outputs": [],
   "source": [
    "dic[]"
   ]
  },
  {
   "cell_type": "code",
   "execution_count": null,
   "metadata": {},
   "outputs": [],
   "source": [
    "zid=ddd['amount']['zpid']\n",
    "ddd"
   ]
  },
  {
   "cell_type": "code",
   "execution_count": null,
   "metadata": {},
   "outputs": [],
   "source": []
  },
  {
   "cell_type": "code",
   "execution_count": null,
   "metadata": {},
   "outputs": [],
   "source": []
  }
 ],
 "metadata": {
  "anaconda-cloud": {},
  "kernelspec": {
   "display_name": "Python [default]",
   "language": "python",
   "name": "python3"
  },
  "language_info": {
   "codemirror_mode": {
    "name": "ipython",
    "version": 3
   },
   "file_extension": ".py",
   "mimetype": "text/x-python",
   "name": "python",
   "nbconvert_exporter": "python",
   "pygments_lexer": "ipython3",
   "version": "3.6.5"
  }
 },
 "nbformat": 4,
 "nbformat_minor": 1
}
